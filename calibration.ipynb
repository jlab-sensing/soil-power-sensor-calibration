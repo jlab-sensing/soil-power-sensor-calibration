{
 "cells": [
  {
   "cell_type": "code",
   "execution_count": 1,
   "id": "90cd3cea-8b5d-4783-9168-be0fb224543e",
   "metadata": {},
   "outputs": [],
   "source": [
    "import os\n",
    "\n",
    "from scipy import stats\n",
    "import pandas as pd\n",
    "import numpy as np\n",
    "\n",
    "import matplotlib as mpl\n",
    "import matplotlib.pyplot as plt\n",
    "\n",
    "import yaml\n",
    "try:\n",
    "    from yaml import CLoader as Loader\n",
    "except ImportErorr:\n",
    "    from yaml import Loader"
   ]
  },
  {
   "cell_type": "code",
   "execution_count": 2,
   "id": "c5716377-4741-4839-a020-37158f5dbfed",
   "metadata": {},
   "outputs": [],
   "source": [
    "# Set plot size\n",
    "factor = 1.2\n",
    "default_dpi = mpl.rcParamsDefault['figure.dpi']\n",
    "mpl.rcParams['figure.dpi'] = default_dpi*factor"
   ]
  },
  {
   "cell_type": "code",
   "execution_count": 3,
   "id": "12a1e4f3-bbe3-4621-9710-104898c51d7f",
   "metadata": {},
   "outputs": [],
   "source": [
    "# Folder for data files\n",
    "data_dir = \"data\"\n",
    "# Config file name\n",
    "cfg_name = \"config.yaml\"\n",
    "# Data file name\n",
    "data_name = \"test.csv\""
   ]
  },
  {
   "cell_type": "code",
   "execution_count": 4,
   "id": "194a3795-40bb-4dc8-82aa-4e9a88f27524",
   "metadata": {},
   "outputs": [
    {
     "ename": "FileNotFoundError",
     "evalue": "[Errno 2] No such file or directory: 'data/config.yaml'",
     "output_type": "error",
     "traceback": [
      "\u001b[0;31m---------------------------------------------------------------------------\u001b[0m",
      "\u001b[0;31mFileNotFoundError\u001b[0m                         Traceback (most recent call last)",
      "Input \u001b[0;32mIn [4]\u001b[0m, in \u001b[0;36m<cell line: 5>\u001b[0;34m()\u001b[0m\n\u001b[1;32m      2\u001b[0m cfg_path \u001b[38;5;241m=\u001b[39m os\u001b[38;5;241m.\u001b[39mpath\u001b[38;5;241m.\u001b[39mjoin(data_dir, cfg_name)\n\u001b[1;32m      4\u001b[0m \u001b[38;5;66;03m# Read config\u001b[39;00m\n\u001b[0;32m----> 5\u001b[0m \u001b[38;5;28;01mwith\u001b[39;00m \u001b[38;5;28;43mopen\u001b[39;49m\u001b[43m(\u001b[49m\u001b[43mcfg_path\u001b[49m\u001b[43m,\u001b[49m\u001b[43m \u001b[49m\u001b[38;5;124;43m\"\u001b[39;49m\u001b[38;5;124;43mr\u001b[39;49m\u001b[38;5;124;43m\"\u001b[39;49m\u001b[43m)\u001b[49m \u001b[38;5;28;01mas\u001b[39;00m f:\n\u001b[1;32m      6\u001b[0m     cfg \u001b[38;5;241m=\u001b[39m yaml\u001b[38;5;241m.\u001b[39mload(f, Loader\u001b[38;5;241m=\u001b[39mLoader)\n\u001b[1;32m      8\u001b[0m \u001b[38;5;66;03m# Read data\u001b[39;00m\n",
      "\u001b[0;31mFileNotFoundError\u001b[0m: [Errno 2] No such file or directory: 'data/config.yaml'"
     ]
    }
   ],
   "source": [
    "data_path = os.path.join(data_dir, data_name)\n",
    "cfg_path = os.path.join(data_dir, cfg_name)\n",
    "\n",
    "# Read config\n",
    "with open(cfg_path, \"r\") as f:\n",
    "    cfg = yaml.load(f, Loader=Loader)\n",
    "    \n",
    "# Read data\n",
    "data = pd.read_csv(data_path)\n",
    "\n",
    "data[\"I_in\"] = data[\"I_in\"] * 1e6\n",
    "data[\"I_meas\"] = data[\"V_i\"] / config[\"r_sense\"] / config[\"gain\"] * 1e6\n",
    "data[\"V_meas\"] = data[\"V_2x\"] / 2."
   ]
  },
  {
   "cell_type": "code",
   "execution_count": null,
   "id": "3daf6f34-1ee7-453a-8988-0ca1b16c7f2b",
   "metadata": {},
   "outputs": [],
   "source": [
    "def plot_accuracy(x, y):\n",
    "    \"\"\"Plots a graph showing the accuracy of measurements y to ideal values x\n",
    "    \n",
    "    Parameters\n",
    "    ----------\n",
    "    x : Series\n",
    "        True values\n",
    "    y : Series\n",
    "        Measured values\n",
    "        \n",
    "    Returns\n",
    "    -------\n",
    "    fig, ax\n",
    "        Matplotlib figure, same format as plt.subplots\n",
    "    \"\"\"\n",
    "    \n",
    "    fig, ax = plt.subplots()\n",
    "    ax.plot(x, y / x)\n",
    "    ax.axhline(y=1, linestyle=':', color='k', linewidth='3')\n",
    "    ax.grid()"
   ]
  },
  {
   "cell_type": "code",
   "execution_count": null,
   "id": "8fd7ac29-436a-4135-a656-65975f388c87",
   "metadata": {},
   "outputs": [],
   "source": [
    "fig, ax = plot_accuracy(data[\"V_in\"], V[\"V_meas\"])\n",
    "\n",
    "ax.set_title(\"Voltage Channel Accuracy Raw\")\n",
    "ax.set_xlabel(\"Input Voltage (V)\")\n",
    "ax.set_ylabel(\"Relative Measurement (V/V)\")"
   ]
  },
  {
   "cell_type": "code",
   "execution_count": null,
   "id": "a6b32c56-5d5d-4c53-a8a9-608836b7c877",
   "metadata": {},
   "outputs": [],
   "source": [
    "fig, ax = plot_accuracy(data[\"I_in\"], V[\"I_meas\"])\n",
    "\n",
    "ax.set_title(\"Current Channel Accuracy Raw\")\n",
    "ax.set_xlabel(\"Input Current (uA)\")\n",
    "ax.set_ylabel(\"Relative Measurement (A/A)\")"
   ]
  },
  {
   "cell_type": "code",
   "execution_count": null,
   "id": "b0c3f344-bebe-4abf-b22a-c0e70b1b06d4",
   "metadata": {},
   "outputs": [],
   "source": [
    "def calc_fit(x, y):\n",
    "    \"\"\"Calculates linear regression fit line given input x and output y.\n",
    "    \n",
    "    Parameters\n",
    "    ----------\n",
    "    x : Series\n",
    "        input\n",
    "    y : Series\n",
    "        output\n",
    "        \n",
    "    Returns\n",
    "    -------\n",
    "    Series\n",
    "        Fit line\n",
    "    \"\"\"\n",
    "    \n",
    "    linreg = stats.linregress(x, y)\n",
    "    fit = linreg.intercept + x * linreg.slope\n",
    "    return fit"
   ]
  },
  {
   "cell_type": "code",
   "execution_count": null,
   "id": "9e1da3c3-4b9d-40ac-a4e9-3e19e8332aeb",
   "metadata": {},
   "outputs": [],
   "source": [
    "# Linear Regression\n",
    "data[\"V_fit\"] = calc_fit(data[\"V_meas\"], data[\"V_in\"])\n",
    "data[\"I_fit\"] = calc_fit(data[\"I_meas\"], data[\"I_in\"])"
   ]
  },
  {
   "cell_type": "code",
   "execution_count": null,
   "id": "e7f08eda-b737-4cd8-b0da-eb74b02788e7",
   "metadata": {},
   "outputs": [],
   "source": [
    "fig, ax = plot_accuracy(data[\"V_in\"], V[\"V_fit\"])\n",
    "\n",
    "ax.set_title(\"Voltage Channel Accuracy Calibrated\")\n",
    "ax.set_xlabel(\"Input Voltage (V)\")\n",
    "ax.set_ylabel(\"Relative Measurement (V/V)\")"
   ]
  },
  {
   "cell_type": "code",
   "execution_count": null,
   "id": "9c1cbb7a-d40f-48c6-96fa-389f65aa6bca",
   "metadata": {},
   "outputs": [],
   "source": [
    "fig, ax = plot_accuracy(data[\"I_in\"], V[\"I_fit\"])\n",
    "\n",
    "ax.set_title(\"Current Channel Accuracy Calibrated\")\n",
    "ax.set_xlabel(\"Input Current (uA)\")\n",
    "ax.set_ylabel(\"Relative Measurement (A/A)\")"
   ]
  },
  {
   "cell_type": "code",
   "execution_count": null,
   "id": "b3f2b4ef-f08f-4612-b1ee-5c67970ef4e9",
   "metadata": {},
   "outputs": [],
   "source": []
  }
 ],
 "metadata": {
  "kernelspec": {
   "display_name": "Python 3 (ipykernel)",
   "language": "python",
   "name": "python3"
  },
  "language_info": {
   "codemirror_mode": {
    "name": "ipython",
    "version": 3
   },
   "file_extension": ".py",
   "mimetype": "text/x-python",
   "name": "python",
   "nbconvert_exporter": "python",
   "pygments_lexer": "ipython3",
   "version": "3.10.5"
  }
 },
 "nbformat": 4,
 "nbformat_minor": 5
}
