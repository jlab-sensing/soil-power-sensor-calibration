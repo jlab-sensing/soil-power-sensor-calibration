{
 "cells": [
  {
   "cell_type": "code",
   "execution_count": 1,
   "id": "ebc1eb97-07cd-45be-9a3e-88e81fd44ac6",
   "metadata": {},
   "outputs": [],
   "source": [
    "import os\n",
    "import pandas as pd\n",
    "import numpy as np\n",
    "from scipy import stats\n",
    "import matplotlib as mpl\n",
    "import matplotlib.pyplot as plt\n",
    "import yaml\n",
    "try:\n",
    "    from yaml import CLoader as Loader\n",
    "except ImportError:\n",
    "    from yaml import Loader"
   ]
  },
  {
   "cell_type": "code",
   "execution_count": 2,
   "id": "29cd12c9-a75f-484d-8c59-c943a99f5a7c",
   "metadata": {},
   "outputs": [],
   "source": [
    "data_dir = \"data\"\n",
    "names = [\"sps1\", \"sps2\", \"sps3\", \"sps4\"]"
   ]
  },
  {
   "cell_type": "code",
   "execution_count": 3,
   "id": "92f5147e-45b0-4891-a013-d1f89c3e3a39",
   "metadata": {},
   "outputs": [],
   "source": [
    "def calc_stats(x, y) -> dict:\n",
    "    \"\"\"Calculates linear resgression of data, fits the data, and calculates\n",
    "    mae for pre and post calibration\n",
    "    \n",
    "    Parameters\n",
    "    ----------\n",
    "    x : input\n",
    "    y : output\n",
    "    \n",
    "    Returns\n",
    "    -------\n",
    "    dict\n",
    "        \n",
    "    \"\"\"\n",
    "    \n",
    "    linreg = stats.linregress(x, y)\n",
    "    fit = linreg.intercept + x * linreg.slope\n",
    "    mae_pre = abs(x-y).sum()/len(y)\n",
    "    mae_post = abs(fit-y).sum()/len(y)\n",
    "    \n",
    "    r = {\n",
    "        \"slope\": linreg.slope,\n",
    "        \"intercept\": linreg.intercept,\n",
    "        \"rvalue\": linreg.rvalue,\n",
    "        \"mae_pre\": mae_pre,\n",
    "        \"mae_post\": mae_posts\n",
    "    }\n",
    "    \n",
    "    return r"
   ]
  },
  {
   "cell_type": "code",
   "execution_count": 11,
   "id": "682ff59f-5d6d-469d-ab34-f39b96da8c5d",
   "metadata": {},
   "outputs": [],
   "source": [
    "I_plots = []\n",
    "V_plots = []\n",
    "\n",
    "I_stats_list = []\n",
    "V_stats_list = []\n",
    "\n",
    "for n in names:\n",
    "    # Get filepaths\n",
    "    csv_path = os.path.join(data_dir, f\"{n}.csv\")\n",
    "    yaml_path = os.path.join(data_dir, f\"{n}.yaml\")\n",
    "    \n",
    "    # Load configuration\n",
    "    with open(yaml_path, \"r\") as f:\n",
    "        config = yaml.load(f, Loader=Loader)\n",
    "    \n",
    "    # Load data\n",
    "    data = pd.read_csv(csv_path)\n",
    "    \n",
    "    # Convert measured value to correct V/I measurements\n",
    "    data[\"I_nom\"] = data[\"V_in\"] / config[\"r_load\"] * 1e6\n",
    "    data[\"I_calc\"] = data[\"V_current\"] / config[\"r_sense\"] / config[\"gain\"] * 1e6\n",
    "    data[\"V_meas\"] = data[\"V_2x\"] / 2.\n",
    "    \n",
    "    # Calculate stats\n",
    "    I_stats = calc_stats(data[\"I_calc\"], data[\"I_nom\"])\n",
    "    I_stats[\"name\"] = n\n",
    "    V_stats = calc_stats(data[\"V_meas\"], data[\"V_in\"])\n",
    "    V_stats[\"name\"] = n\n",
    "    \n",
    "    I_stats_list.append(I_stats)\n",
    "    V_stats_list.append(V_stats)\n",
    "    \n",
    "    # Generate a set of points for fit data\n",
    "    data[\"I_fit\"] = I_stats[\"intercept\"] + I_stats[\"slope\"] * data[\"V_meas\"]\n",
    "    data[\"V_fit\"] = V_stats[\"intercept\"] + V_stats[\"slope\"] * data[\"I_calc\"]\n",
    "    \n",
    "    I_plots.append(data[[\"I_nom\", \"I_calc\", \"I_fit\"]])\n",
    "    V_plots.append(data[[\"V_in\", \"V_meas\", \"V_fit\"]])"
   ]
  },
  {
   "cell_type": "code",
   "execution_count": 16,
   "id": "49f444cf-4369-456c-9cd7-46b0b0ade17a",
   "metadata": {},
   "outputs": [
    {
     "data": {
      "text/html": [
       "<div>\n",
       "<style scoped>\n",
       "    .dataframe tbody tr th:only-of-type {\n",
       "        vertical-align: middle;\n",
       "    }\n",
       "\n",
       "    .dataframe tbody tr th {\n",
       "        vertical-align: top;\n",
       "    }\n",
       "\n",
       "    .dataframe thead th {\n",
       "        text-align: right;\n",
       "    }\n",
       "</style>\n",
       "<table border=\"1\" class=\"dataframe\">\n",
       "  <thead>\n",
       "    <tr style=\"text-align: right;\">\n",
       "      <th></th>\n",
       "      <th>slope</th>\n",
       "      <th>intercept</th>\n",
       "      <th>rvalue</th>\n",
       "      <th>mae_pre</th>\n",
       "      <th>mae_post</th>\n",
       "    </tr>\n",
       "    <tr>\n",
       "      <th>name</th>\n",
       "      <th></th>\n",
       "      <th></th>\n",
       "      <th></th>\n",
       "      <th></th>\n",
       "      <th></th>\n",
       "    </tr>\n",
       "  </thead>\n",
       "  <tbody>\n",
       "    <tr>\n",
       "      <th>sps1</th>\n",
       "      <td>1.053495</td>\n",
       "      <td>-0.215340</td>\n",
       "      <td>0.999997</td>\n",
       "      <td>8.481456</td>\n",
       "      <td>0.215408</td>\n",
       "    </tr>\n",
       "    <tr>\n",
       "      <th>sps2</th>\n",
       "      <td>1.047137</td>\n",
       "      <td>-0.108001</td>\n",
       "      <td>0.999995</td>\n",
       "      <td>7.616318</td>\n",
       "      <td>0.247936</td>\n",
       "    </tr>\n",
       "    <tr>\n",
       "      <th>sps3</th>\n",
       "      <td>1.049812</td>\n",
       "      <td>-0.604729</td>\n",
       "      <td>0.999945</td>\n",
       "      <td>7.494949</td>\n",
       "      <td>0.584517</td>\n",
       "    </tr>\n",
       "    <tr>\n",
       "      <th>sps4</th>\n",
       "      <td>1.048127</td>\n",
       "      <td>-0.120128</td>\n",
       "      <td>0.999997</td>\n",
       "      <td>7.680437</td>\n",
       "      <td>0.208992</td>\n",
       "    </tr>\n",
       "  </tbody>\n",
       "</table>\n",
       "</div>"
      ],
      "text/plain": [
       "         slope  intercept    rvalue   mae_pre  mae_post\n",
       "name                                                   \n",
       "sps1  1.053495  -0.215340  0.999997  8.481456  0.215408\n",
       "sps2  1.047137  -0.108001  0.999995  7.616318  0.247936\n",
       "sps3  1.049812  -0.604729  0.999945  7.494949  0.584517\n",
       "sps4  1.048127  -0.120128  0.999997  7.680437  0.208992"
      ]
     },
     "execution_count": 16,
     "metadata": {},
     "output_type": "execute_result"
    }
   ],
   "source": [
    "I_stats_df = pd.DataFrame(I_stats_list)\n",
    "I_stats_df.set_index('name')"
   ]
  },
  {
   "cell_type": "code",
   "execution_count": 17,
   "id": "a8c3e2b4-af96-4f78-9d8d-9926d2f5a4d4",
   "metadata": {},
   "outputs": [
    {
     "data": {
      "text/html": [
       "<div>\n",
       "<style scoped>\n",
       "    .dataframe tbody tr th:only-of-type {\n",
       "        vertical-align: middle;\n",
       "    }\n",
       "\n",
       "    .dataframe tbody tr th {\n",
       "        vertical-align: top;\n",
       "    }\n",
       "\n",
       "    .dataframe thead th {\n",
       "        text-align: right;\n",
       "    }\n",
       "</style>\n",
       "<table border=\"1\" class=\"dataframe\">\n",
       "  <thead>\n",
       "    <tr style=\"text-align: right;\">\n",
       "      <th></th>\n",
       "      <th>slope</th>\n",
       "      <th>intercept</th>\n",
       "      <th>rvalue</th>\n",
       "      <th>mae_pre</th>\n",
       "      <th>mae_post</th>\n",
       "    </tr>\n",
       "    <tr>\n",
       "      <th>name</th>\n",
       "      <th></th>\n",
       "      <th></th>\n",
       "      <th></th>\n",
       "      <th></th>\n",
       "      <th></th>\n",
       "    </tr>\n",
       "  </thead>\n",
       "  <tbody>\n",
       "    <tr>\n",
       "      <th>sps1</th>\n",
       "      <td>1.001275</td>\n",
       "      <td>-0.002944</td>\n",
       "      <td>0.999990</td>\n",
       "      <td>0.002463</td>\n",
       "      <td>0.000711</td>\n",
       "    </tr>\n",
       "    <tr>\n",
       "      <th>sps2</th>\n",
       "      <td>0.999700</td>\n",
       "      <td>-0.005534</td>\n",
       "      <td>0.999447</td>\n",
       "      <td>0.005650</td>\n",
       "      <td>0.004902</td>\n",
       "    </tr>\n",
       "    <tr>\n",
       "      <th>sps3</th>\n",
       "      <td>0.999629</td>\n",
       "      <td>-0.003393</td>\n",
       "      <td>0.999945</td>\n",
       "      <td>0.003534</td>\n",
       "      <td>0.001325</td>\n",
       "    </tr>\n",
       "    <tr>\n",
       "      <th>sps4</th>\n",
       "      <td>0.995695</td>\n",
       "      <td>-0.001860</td>\n",
       "      <td>0.999997</td>\n",
       "      <td>0.003491</td>\n",
       "      <td>0.000438</td>\n",
       "    </tr>\n",
       "  </tbody>\n",
       "</table>\n",
       "</div>"
      ],
      "text/plain": [
       "         slope  intercept    rvalue   mae_pre  mae_post\n",
       "name                                                   \n",
       "sps1  1.001275  -0.002944  0.999990  0.002463  0.000711\n",
       "sps2  0.999700  -0.005534  0.999447  0.005650  0.004902\n",
       "sps3  0.999629  -0.003393  0.999945  0.003534  0.001325\n",
       "sps4  0.995695  -0.001860  0.999997  0.003491  0.000438"
      ]
     },
     "execution_count": 17,
     "metadata": {},
     "output_type": "execute_result"
    }
   ],
   "source": [
    "V_stats_df = pd.DataFrame(V_stats_list)\n",
    "V_stats_df.set_index('name')"
   ]
  },
  {
   "cell_type": "code",
   "execution_count": 5,
   "id": "955187af-5988-44e8-962c-85f1263a4ec5",
   "metadata": {},
   "outputs": [
    {
     "data": {
      "image/png": "[encoded data removed]",
      "text/plain": [
       "<Figure size 432x288 with 1 Axes>"
      ]
     },
     "metadata": {
      "needs_background": "light"
     },
     "output_type": "display_data"
    }
   ],
   "source": [
    "fig, ax = plt.subplots()\n",
    "for i in I_plots:\n",
    "    ax.plot(i[\"I_nom\"], i[\"I_calc\"])"
   ]
  },
  {
   "cell_type": "code",
   "execution_count": 6,
   "id": "18a1fa2e-607f-4575-a0ce-b8479cc11ff6",
   "metadata": {},
   "outputs": [
    {
     "data": {
      "image/png": "[encoded data removed]",
      "text/plain": [
       "<Figure size 432x288 with 1 Axes>"
      ]
     },
     "metadata": {
      "needs_background": "light"
     },
     "output_type": "display_data"
    }
   ],
   "source": [
    "fig, ax = plt.subplots()\n",
    "for v in V_plots:\n",
    "    ax.plot(v[\"V_in\"], v[\"V_meas\"])"
   ]
  },
  {
   "cell_type": "code",
   "execution_count": null,
   "id": "2085cb51-7acf-46f6-abf0-3cabd4d497c5",
   "metadata": {},
   "outputs": [],
   "source": []
  }
 ],
 "metadata": {
  "kernelspec": {
   "display_name": ".venv",
   "language": "python",
   "name": ".venv"
  },
  "language_info": {
   "codemirror_mode": {
    "name": "ipython",
    "version": 3
   },
   "file_extension": ".py",
   "mimetype": "text/x-python",
   "name": "python",
   "nbconvert_exporter": "python",
   "pygments_lexer": "ipython3",
   "version": "3.10.5"
  }
 },
 "nbformat": 4,
 "nbformat_minor": 5
}
