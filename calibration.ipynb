{
 "cells": [
  {
   "cell_type": "code",
   "execution_count": 1,
   "id": "90cd3cea-8b5d-4783-9168-be0fb224543e",
   "metadata": {},
   "outputs": [],
   "source": [
    "import os\n",
    "\n",
    "from scipy import stats\n",
    "import pandas as pd\n",
    "import numpy as np\n",
    "\n",
    "import matplotlib as mpl\n",
    "import matplotlib.pyplot as plt\n",
    "\n",
    "import yaml\n",
    "try:\n",
    "    from yaml import CLoader as Loader\n",
    "except ImportErorr:\n",
    "    from yaml import Loader"
   ]
  },
  {
   "cell_type": "code",
   "execution_count": 2,
   "id": "c5716377-4741-4839-a020-37158f5dbfed",
   "metadata": {},
   "outputs": [],
   "source": [
    "# Set plot size\n",
    "factor = 1.2\n",
    "default_dpi = mpl.rcParamsDefault['figure.dpi']\n",
    "mpl.rcParams['figure.dpi'] = default_dpi*factor"
   ]
  },
  {
   "cell_type": "code",
   "execution_count": 3,
   "id": "e4cf8fa4-908d-4409-9cc7-bf48af953e28",
   "metadata": {},
   "outputs": [],
   "source": [
    "def load_data(cfg, datafiles):\n",
    "    \"\"\"Loads csv data files and converts measurements to SI units using the defined config\n",
    "    \n",
    "    Parameters\n",
    "    ----------\n",
    "    cfg : dict\n",
    "        Board configuration\n",
    "    datafiles : list\n",
    "        List of data files paths\n",
    "        \n",
    "    Returns\n",
    "    -------\n",
    "    pd.DataFrame\n",
    "        Concatenated dataframe from all datafiles\n",
    "    \"\"\"\n",
    "    \n",
    "    df_list = []\n",
    "    for d in datafiles:\n",
    "        df = pd.read_csv(d)\n",
    "        df_list.append(df)\n",
    "    \n",
    "    data = pd.concat(df_list, ignore_index=True)\n",
    "    data  = df.set_index(\"V\")\n",
    "    \n",
    "    data[\"I_in\"] = data[\"I_in\"] * 1e6\n",
    "    data[\"I_meas\"] = data[\"V_i\"] / cfg[\"r_sense\"] / cfg[\"gain\"] * 1e6\n",
    "    data[\"V_meas\"] = data[\"V_2x\"] / 2.\n",
    "    \n",
    "    return data"
   ]
  },
  {
   "cell_type": "code",
   "execution_count": 4,
   "id": "194a3795-40bb-4dc8-82aa-4e9a88f27524",
   "metadata": {},
   "outputs": [],
   "source": [
    "# Config file name\n",
    "cfg_path = \"data/config.yaml\"\n",
    "# Data file name\n",
    "datafiles = [\"data/sps3.csv\"]\n",
    "# Evaluation data name\n",
    "evalfiles = [\"data/sps3.csv\"]"
   ]
  },
  {
   "cell_type": "code",
   "execution_count": 5,
   "id": "41380ed9-70ab-40aa-bc46-c28b08e5fb7a",
   "metadata": {},
   "outputs": [
    {
     "data": {
      "text/plain": [
       "{'date': datetime.date(2022, 8, 24),\n",
       " 'r_load': 2200,\n",
       " 'r_sense': 249,\n",
       " 'gain': 10,\n",
       " 'ref': 'unidirectional'}"
      ]
     },
     "execution_count": 5,
     "metadata": {},
     "output_type": "execute_result"
    }
   ],
   "source": [
    "# Read config\n",
    "with open(cfg_path, \"r\") as f:\n",
    "    cfg = yaml.load(f, Loader=Loader)\n",
    "cfg"
   ]
  },
  {
   "cell_type": "code",
   "execution_count": 6,
   "id": "01b47a31-0d49-4e56-86d5-3541da0629d1",
   "metadata": {},
   "outputs": [
    {
     "data": {
      "text/html": [
       "<div>\n",
       "<style scoped>\n",
       "    .dataframe tbody tr th:only-of-type {\n",
       "        vertical-align: middle;\n",
       "    }\n",
       "\n",
       "    .dataframe tbody tr th {\n",
       "        vertical-align: top;\n",
       "    }\n",
       "\n",
       "    .dataframe thead th {\n",
       "        text-align: right;\n",
       "    }\n",
       "</style>\n",
       "<table border=\"1\" class=\"dataframe\">\n",
       "  <thead>\n",
       "    <tr style=\"text-align: right;\">\n",
       "      <th></th>\n",
       "      <th>V_in</th>\n",
       "      <th>I_in</th>\n",
       "      <th>V_i</th>\n",
       "      <th>V_2x</th>\n",
       "      <th>I_meas</th>\n",
       "      <th>V_meas</th>\n",
       "    </tr>\n",
       "    <tr>\n",
       "      <th>V</th>\n",
       "      <th></th>\n",
       "      <th></th>\n",
       "      <th></th>\n",
       "      <th></th>\n",
       "      <th></th>\n",
       "      <th></th>\n",
       "    </tr>\n",
       "  </thead>\n",
       "  <tbody>\n",
       "    <tr>\n",
       "      <th>0.10</th>\n",
       "      <td>0.100060</td>\n",
       "      <td>50.55657</td>\n",
       "      <td>0.106332</td>\n",
       "      <td>0.207019</td>\n",
       "      <td>42.703614</td>\n",
       "      <td>0.103510</td>\n",
       "    </tr>\n",
       "    <tr>\n",
       "      <th>0.10</th>\n",
       "      <td>0.100058</td>\n",
       "      <td>50.55559</td>\n",
       "      <td>0.106642</td>\n",
       "      <td>0.207003</td>\n",
       "      <td>42.828112</td>\n",
       "      <td>0.103501</td>\n",
       "    </tr>\n",
       "    <tr>\n",
       "      <th>0.10</th>\n",
       "      <td>0.100057</td>\n",
       "      <td>50.55650</td>\n",
       "      <td>0.106601</td>\n",
       "      <td>0.207023</td>\n",
       "      <td>42.811647</td>\n",
       "      <td>0.103512</td>\n",
       "    </tr>\n",
       "    <tr>\n",
       "      <th>0.10</th>\n",
       "      <td>0.100058</td>\n",
       "      <td>50.55659</td>\n",
       "      <td>0.106537</td>\n",
       "      <td>0.207027</td>\n",
       "      <td>42.785944</td>\n",
       "      <td>0.103513</td>\n",
       "    </tr>\n",
       "    <tr>\n",
       "      <th>0.10</th>\n",
       "      <td>0.100059</td>\n",
       "      <td>50.55670</td>\n",
       "      <td>0.106231</td>\n",
       "      <td>0.207068</td>\n",
       "      <td>42.663052</td>\n",
       "      <td>0.103534</td>\n",
       "    </tr>\n",
       "    <tr>\n",
       "      <th>...</th>\n",
       "      <td>...</td>\n",
       "      <td>...</td>\n",
       "      <td>...</td>\n",
       "      <td>...</td>\n",
       "      <td>...</td>\n",
       "      <td>...</td>\n",
       "    </tr>\n",
       "    <tr>\n",
       "      <th>0.95</th>\n",
       "      <td>0.949964</td>\n",
       "      <td>396.33190</td>\n",
       "      <td>0.962321</td>\n",
       "      <td>1.901955</td>\n",
       "      <td>386.474297</td>\n",
       "      <td>0.950978</td>\n",
       "    </tr>\n",
       "    <tr>\n",
       "      <th>0.95</th>\n",
       "      <td>0.949964</td>\n",
       "      <td>396.33170</td>\n",
       "      <td>0.962587</td>\n",
       "      <td>1.902048</td>\n",
       "      <td>386.581124</td>\n",
       "      <td>0.951024</td>\n",
       "    </tr>\n",
       "    <tr>\n",
       "      <th>0.95</th>\n",
       "      <td>0.949962</td>\n",
       "      <td>396.33080</td>\n",
       "      <td>0.962301</td>\n",
       "      <td>1.902028</td>\n",
       "      <td>386.466265</td>\n",
       "      <td>0.951014</td>\n",
       "    </tr>\n",
       "    <tr>\n",
       "      <th>0.95</th>\n",
       "      <td>0.949964</td>\n",
       "      <td>396.33140</td>\n",
       "      <td>0.962539</td>\n",
       "      <td>1.901988</td>\n",
       "      <td>386.561847</td>\n",
       "      <td>0.950994</td>\n",
       "    </tr>\n",
       "    <tr>\n",
       "      <th>0.95</th>\n",
       "      <td>0.949963</td>\n",
       "      <td>396.33100</td>\n",
       "      <td>0.962519</td>\n",
       "      <td>1.902056</td>\n",
       "      <td>386.553815</td>\n",
       "      <td>0.951028</td>\n",
       "    </tr>\n",
       "  </tbody>\n",
       "</table>\n",
       "<p>180 rows × 6 columns</p>\n",
       "</div>"
      ],
      "text/plain": [
       "          V_in       I_in       V_i      V_2x      I_meas    V_meas\n",
       "V                                                                  \n",
       "0.10  0.100060   50.55657  0.106332  0.207019   42.703614  0.103510\n",
       "0.10  0.100058   50.55559  0.106642  0.207003   42.828112  0.103501\n",
       "0.10  0.100057   50.55650  0.106601  0.207023   42.811647  0.103512\n",
       "0.10  0.100058   50.55659  0.106537  0.207027   42.785944  0.103513\n",
       "0.10  0.100059   50.55670  0.106231  0.207068   42.663052  0.103534\n",
       "...        ...        ...       ...       ...         ...       ...\n",
       "0.95  0.949964  396.33190  0.962321  1.901955  386.474297  0.950978\n",
       "0.95  0.949964  396.33170  0.962587  1.902048  386.581124  0.951024\n",
       "0.95  0.949962  396.33080  0.962301  1.902028  386.466265  0.951014\n",
       "0.95  0.949964  396.33140  0.962539  1.901988  386.561847  0.950994\n",
       "0.95  0.949963  396.33100  0.962519  1.902056  386.553815  0.951028\n",
       "\n",
       "[180 rows x 6 columns]"
      ]
     },
     "execution_count": 6,
     "metadata": {},
     "output_type": "execute_result"
    }
   ],
   "source": [
    "data = load_data(cfg, datafiles)\n",
    "data"
   ]
  },
  {
   "cell_type": "code",
   "execution_count": 7,
   "id": "9882de98-5465-42f9-b839-9abaf3aae6ed",
   "metadata": {},
   "outputs": [
    {
     "data": {
      "text/html": [
       "<div>\n",
       "<style scoped>\n",
       "    .dataframe tbody tr th:only-of-type {\n",
       "        vertical-align: middle;\n",
       "    }\n",
       "\n",
       "    .dataframe tbody tr th {\n",
       "        vertical-align: top;\n",
       "    }\n",
       "\n",
       "    .dataframe thead th {\n",
       "        text-align: right;\n",
       "    }\n",
       "</style>\n",
       "<table border=\"1\" class=\"dataframe\">\n",
       "  <thead>\n",
       "    <tr style=\"text-align: right;\">\n",
       "      <th></th>\n",
       "      <th>V_in</th>\n",
       "      <th>I_in</th>\n",
       "      <th>V_i</th>\n",
       "      <th>V_2x</th>\n",
       "      <th>I_meas</th>\n",
       "      <th>V_meas</th>\n",
       "    </tr>\n",
       "    <tr>\n",
       "      <th>V</th>\n",
       "      <th></th>\n",
       "      <th></th>\n",
       "      <th></th>\n",
       "      <th></th>\n",
       "      <th></th>\n",
       "      <th></th>\n",
       "    </tr>\n",
       "  </thead>\n",
       "  <tbody>\n",
       "    <tr>\n",
       "      <th>0.10</th>\n",
       "      <td>0.100060</td>\n",
       "      <td>50.55657</td>\n",
       "      <td>0.106332</td>\n",
       "      <td>0.207019</td>\n",
       "      <td>42.703614</td>\n",
       "      <td>0.103510</td>\n",
       "    </tr>\n",
       "    <tr>\n",
       "      <th>0.10</th>\n",
       "      <td>0.100058</td>\n",
       "      <td>50.55559</td>\n",
       "      <td>0.106642</td>\n",
       "      <td>0.207003</td>\n",
       "      <td>42.828112</td>\n",
       "      <td>0.103501</td>\n",
       "    </tr>\n",
       "    <tr>\n",
       "      <th>0.10</th>\n",
       "      <td>0.100057</td>\n",
       "      <td>50.55650</td>\n",
       "      <td>0.106601</td>\n",
       "      <td>0.207023</td>\n",
       "      <td>42.811647</td>\n",
       "      <td>0.103512</td>\n",
       "    </tr>\n",
       "    <tr>\n",
       "      <th>0.10</th>\n",
       "      <td>0.100058</td>\n",
       "      <td>50.55659</td>\n",
       "      <td>0.106537</td>\n",
       "      <td>0.207027</td>\n",
       "      <td>42.785944</td>\n",
       "      <td>0.103513</td>\n",
       "    </tr>\n",
       "    <tr>\n",
       "      <th>0.10</th>\n",
       "      <td>0.100059</td>\n",
       "      <td>50.55670</td>\n",
       "      <td>0.106231</td>\n",
       "      <td>0.207068</td>\n",
       "      <td>42.663052</td>\n",
       "      <td>0.103534</td>\n",
       "    </tr>\n",
       "    <tr>\n",
       "      <th>...</th>\n",
       "      <td>...</td>\n",
       "      <td>...</td>\n",
       "      <td>...</td>\n",
       "      <td>...</td>\n",
       "      <td>...</td>\n",
       "      <td>...</td>\n",
       "    </tr>\n",
       "    <tr>\n",
       "      <th>0.95</th>\n",
       "      <td>0.949964</td>\n",
       "      <td>396.33190</td>\n",
       "      <td>0.962321</td>\n",
       "      <td>1.901955</td>\n",
       "      <td>386.474297</td>\n",
       "      <td>0.950978</td>\n",
       "    </tr>\n",
       "    <tr>\n",
       "      <th>0.95</th>\n",
       "      <td>0.949964</td>\n",
       "      <td>396.33170</td>\n",
       "      <td>0.962587</td>\n",
       "      <td>1.902048</td>\n",
       "      <td>386.581124</td>\n",
       "      <td>0.951024</td>\n",
       "    </tr>\n",
       "    <tr>\n",
       "      <th>0.95</th>\n",
       "      <td>0.949962</td>\n",
       "      <td>396.33080</td>\n",
       "      <td>0.962301</td>\n",
       "      <td>1.902028</td>\n",
       "      <td>386.466265</td>\n",
       "      <td>0.951014</td>\n",
       "    </tr>\n",
       "    <tr>\n",
       "      <th>0.95</th>\n",
       "      <td>0.949964</td>\n",
       "      <td>396.33140</td>\n",
       "      <td>0.962539</td>\n",
       "      <td>1.901988</td>\n",
       "      <td>386.561847</td>\n",
       "      <td>0.950994</td>\n",
       "    </tr>\n",
       "    <tr>\n",
       "      <th>0.95</th>\n",
       "      <td>0.949963</td>\n",
       "      <td>396.33100</td>\n",
       "      <td>0.962519</td>\n",
       "      <td>1.902056</td>\n",
       "      <td>386.553815</td>\n",
       "      <td>0.951028</td>\n",
       "    </tr>\n",
       "  </tbody>\n",
       "</table>\n",
       "<p>180 rows × 6 columns</p>\n",
       "</div>"
      ],
      "text/plain": [
       "          V_in       I_in       V_i      V_2x      I_meas    V_meas\n",
       "V                                                                  \n",
       "0.10  0.100060   50.55657  0.106332  0.207019   42.703614  0.103510\n",
       "0.10  0.100058   50.55559  0.106642  0.207003   42.828112  0.103501\n",
       "0.10  0.100057   50.55650  0.106601  0.207023   42.811647  0.103512\n",
       "0.10  0.100058   50.55659  0.106537  0.207027   42.785944  0.103513\n",
       "0.10  0.100059   50.55670  0.106231  0.207068   42.663052  0.103534\n",
       "...        ...        ...       ...       ...         ...       ...\n",
       "0.95  0.949964  396.33190  0.962321  1.901955  386.474297  0.950978\n",
       "0.95  0.949964  396.33170  0.962587  1.902048  386.581124  0.951024\n",
       "0.95  0.949962  396.33080  0.962301  1.902028  386.466265  0.951014\n",
       "0.95  0.949964  396.33140  0.962539  1.901988  386.561847  0.950994\n",
       "0.95  0.949963  396.33100  0.962519  1.902056  386.553815  0.951028\n",
       "\n",
       "[180 rows x 6 columns]"
      ]
     },
     "execution_count": 7,
     "metadata": {},
     "output_type": "execute_result"
    }
   ],
   "source": [
    "eval_data = load_data(cfg, evalfiles)\n",
    "eval_data"
   ]
  },
  {
   "cell_type": "code",
   "execution_count": 8,
   "id": "3daf6f34-1ee7-453a-8988-0ca1b16c7f2b",
   "metadata": {},
   "outputs": [],
   "source": [
    "def plot_accuracy(x, y):\n",
    "    \"\"\"Plots a graph showing the accuracy of measurements y to ideal values x\n",
    "    \n",
    "    Parameters\n",
    "    ----------\n",
    "    x : Series\n",
    "        True values\n",
    "    y : Series\n",
    "        Measured values\n",
    "        \n",
    "    Returns\n",
    "    -------\n",
    "    fig, ax\n",
    "        Matplotlib figure, same format as plt.subplots\n",
    "    \"\"\"\n",
    "    \n",
    "    rel = y / x\n",
    "    rel = rel.groupby(\"V\").describe()\n",
    "    \n",
    "    fig, ax = plt.subplots()\n",
    "    ax.errorbar(rel.index, rel[\"mean\"], yerr=rel[\"std\"])\n",
    "    ax.axhline(y=1, linestyle=':', color='k', linewidth='3')\n",
    "    ax.grid()\n",
    "    \n",
    "    return (fig, ax)"
   ]
  },
  {
   "cell_type": "code",
   "execution_count": 9,
   "id": "8fd7ac29-436a-4135-a656-65975f388c87",
   "metadata": {},
   "outputs": [
    {
     "data": {
      "text/plain": [
       "Text(0, 0.5, 'Relative Measurement (V/V)')"
      ]
     },
     "execution_count": 9,
     "metadata": {},
     "output_type": "execute_result"
    },
    {
     "data": {
      "image/png": "[encoded data removed]",
      "text/plain": [
       "<Figure size 432x288 with 1 Axes>"
      ]
     },
     "metadata": {
      "needs_background": "light"
     },
     "output_type": "display_data"
    }
   ],
   "source": [
    "fig, ax = plot_accuracy(data[\"V_in\"], data[\"V_meas\"])\n",
    "\n",
    "ax.set_title(\"Voltage Channel Accuracy Raw\")\n",
    "ax.set_xlabel(\"Input Voltage (V)\")\n",
    "ax.set_ylabel(\"Relative Measurement (V/V)\")"
   ]
  },
  {
   "cell_type": "code",
   "execution_count": 10,
   "id": "a6b32c56-5d5d-4c53-a8a9-608836b7c877",
   "metadata": {},
   "outputs": [
    {
     "data": {
      "text/plain": [
       "Text(0, 0.5, 'Relative Measurement (A/A)')"
      ]
     },
     "execution_count": 10,
     "metadata": {},
     "output_type": "execute_result"
    },
    {
     "data": {
      "image/png": "[encoded data removed]",
      "text/plain": [
       "<Figure size 432x288 with 1 Axes>"
      ]
     },
     "metadata": {
      "needs_background": "light"
     },
     "output_type": "display_data"
    }
   ],
   "source": [
    "fig, ax = plot_accuracy(data[\"I_in\"], data[\"I_meas\"])\n",
    "\n",
    "ax.set_title(\"Current Channel Accuracy Raw\")\n",
    "ax.set_xlabel(\"Input Current (uA)\")\n",
    "ax.set_ylabel(\"Relative Measurement (A/A)\")"
   ]
  },
  {
   "cell_type": "code",
   "execution_count": 11,
   "id": "b0c3f344-bebe-4abf-b22a-c0e70b1b06d4",
   "metadata": {},
   "outputs": [],
   "source": [
    "def calc_fit(x, y):\n",
    "    \"\"\"Calculates linear regression fit line given input x and output y.\n",
    "    \n",
    "    Parameters\n",
    "    ----------\n",
    "    x : Series\n",
    "        input\n",
    "    y : Series\n",
    "        output\n",
    "        \n",
    "    Returns\n",
    "    -------\n",
    "    Series\n",
    "        Fit line\n",
    "    \"\"\"\n",
    "    \n",
    "    linreg = stats.linregress(x, y)\n",
    "    fit = linreg.intercept + x * linreg.slope\n",
    "    return fit"
   ]
  },
  {
   "cell_type": "code",
   "execution_count": 12,
   "id": "bd20e5fd-7d66-4ba4-aa48-cc962549d14e",
   "metadata": {},
   "outputs": [],
   "source": [
    "data[\"V_fit\"] = calc_fit(data[\"V_meas\"], data[\"V_in\"])\n",
    "data[\"I_fit\"] = calc_fit(data[\"I_meas\"], data[\"I_in\"])"
   ]
  },
  {
   "cell_type": "code",
   "execution_count": 13,
   "id": "13a903af-8983-4b4a-bad4-7ca8d483dea4",
   "metadata": {},
   "outputs": [
    {
     "data": {
      "text/plain": [
       "Text(0, 0.5, 'Nonlinearity (V)')"
      ]
     },
     "execution_count": 13,
     "metadata": {},
     "output_type": "execute_result"
    },
    {
     "data": {
      "image/png": "[encoded data removed]",
      "text/plain": [
       "<Figure size 432x288 with 1 Axes>"
      ]
     },
     "metadata": {
      "needs_background": "light"
     },
     "output_type": "display_data"
    }
   ],
   "source": [
    "fig, ax = plt.subplots()\n",
    "ax.scatter(data[\"V_in\"], data[\"V_fit\"] - data[\"V_in\"])\n",
    "ax.axhline(y=0, linestyle=':', color='k', linewidth='1')\n",
    "ax.set_title(\"Voltage Nonlinearity\")\n",
    "ax.set_xlabel(\"Input Voltage (V)\")\n",
    "ax.set_ylabel(\"Nonlinearity (V)\")"
   ]
  },
  {
   "cell_type": "code",
   "execution_count": 14,
   "id": "d9756b04-2c4f-486c-b320-5d6bdf79e529",
   "metadata": {},
   "outputs": [
    {
     "data": {
      "text/plain": [
       "Text(0, 0.5, 'Nonlinearity (uA)')"
      ]
     },
     "execution_count": 14,
     "metadata": {},
     "output_type": "execute_result"
    },
    {
     "data": {
      "image/png": "[encoded data removed]",
      "text/plain": [
       "<Figure size 432x288 with 1 Axes>"
      ]
     },
     "metadata": {
      "needs_background": "light"
     },
     "output_type": "display_data"
    }
   ],
   "source": [
    "fig, ax = plt.subplots()\n",
    "ax.scatter(data[\"I_in\"], data[\"I_fit\"] - data[\"I_in\"])\n",
    "ax.axhline(y=0, linestyle=':', color='k', linewidth='1')\n",
    "ax.set_title(\"Current Nonlinearity\")\n",
    "ax.set_xlabel(\"Input Voltage (uA)\")\n",
    "ax.set_ylabel(\"Nonlinearity (uA)\")"
   ]
  },
  {
   "cell_type": "code",
   "execution_count": 15,
   "id": "9e1da3c3-4b9d-40ac-a4e9-3e19e8332aeb",
   "metadata": {},
   "outputs": [],
   "source": [
    "# Linear Regression\n",
    "V_linreg = stats.linregress(data[\"V_meas\"], data[\"V_in\"])\n",
    "I_linreg = stats.linregress(data[\"I_meas\"], data[\"I_in\"])\n",
    "\n",
    "eval_data[\"V_fit\"] = V_linreg.intercept + V_linreg.slope * eval_data[\"V_meas\"]\n",
    "eval_data[\"I_fit\"] = I_linreg.intercept + V_linreg.slope * eval_data[\"I_meas\"]"
   ]
  },
  {
   "cell_type": "code",
   "execution_count": 16,
   "id": "e7f08eda-b737-4cd8-b0da-eb74b02788e7",
   "metadata": {},
   "outputs": [
    {
     "data": {
      "text/plain": [
       "Text(0, 0.5, 'Relative Measurement (V/V)')"
      ]
     },
     "execution_count": 16,
     "metadata": {},
     "output_type": "execute_result"
    },
    {
     "data": {
      "image/png": "[encoded data removed]",
      "text/plain": [
       "<Figure size 432x288 with 1 Axes>"
      ]
     },
     "metadata": {
      "needs_background": "light"
     },
     "output_type": "display_data"
    }
   ],
   "source": [
    "fig, ax = plot_accuracy(eval_data[\"V_in\"], eval_data[\"V_fit\"])\n",
    "\n",
    "ax.set_title(\"Voltage Channel Accuracy Calibrated\")\n",
    "ax.set_xlabel(\"Input Voltage (V)\")\n",
    "ax.set_ylabel(\"Relative Measurement (V/V)\")"
   ]
  },
  {
   "cell_type": "code",
   "execution_count": 17,
   "id": "9c1cbb7a-d40f-48c6-96fa-389f65aa6bca",
   "metadata": {},
   "outputs": [
    {
     "data": {
      "text/plain": [
       "Text(0, 0.5, 'Relative Measurement (A/A)')"
      ]
     },
     "execution_count": 17,
     "metadata": {},
     "output_type": "execute_result"
    },
    {
     "data": {
      "image/png": "[encoded data removed]",
      "text/plain": [
       "<Figure size 432x288 with 1 Axes>"
      ]
     },
     "metadata": {
      "needs_background": "light"
     },
     "output_type": "display_data"
    }
   ],
   "source": [
    "fig, ax = plot_accuracy(eval_data[\"I_in\"], eval_data[\"I_fit\"])\n",
    "\n",
    "ax.set_title(\"Current Channel Accuracy Calibrated\")\n",
    "ax.set_xlabel(\"Input Current (uA)\")\n",
    "ax.set_ylabel(\"Relative Measurement (A/A)\")"
   ]
  }
 ],
 "metadata": {
  "kernelspec": {
   "display_name": "Python 3 (ipykernel)",
   "language": "python",
   "name": "python3"
  },
  "language_info": {
   "codemirror_mode": {
    "name": "ipython",
    "version": 3
   },
   "file_extension": ".py",
   "mimetype": "text/x-python",
   "name": "python",
   "nbconvert_exporter": "python",
   "pygments_lexer": "ipython3",
   "version": "3.10.5"
  }
 },
 "nbformat": 4,
 "nbformat_minor": 5
}
