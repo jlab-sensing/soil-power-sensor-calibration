{
 "cells": [
  {
   "cell_type": "code",
   "execution_count": 1,
   "id": "90cd3cea-8b5d-4783-9168-be0fb224543e",
   "metadata": {},
   "outputs": [],
   "source": [
    "import os\n",
    "\n",
    "from sklearn import linear_model\n",
    "import pandas as pd\n",
    "import numpy as np\n",
    "\n",
    "import matplotlib as mpl\n",
    "import matplotlib.pyplot as plt\n",
    "\n",
    "from rocketlogger.data import RocketLoggerData\n",
    "\n",
    "import yaml\n",
    "try:\n",
    "    from yaml import CLoader as Loader\n",
    "except ImportErorr:\n",
    "    from yaml import Loader"
   ]
  },
  {
   "cell_type": "code",
   "execution_count": 2,
   "id": "c5716377-4741-4839-a020-37158f5dbfed",
   "metadata": {},
   "outputs": [],
   "source": [
    "# Set plot size\n",
    "factor = 1.2\n",
    "default_dpi = mpl.rcParamsDefault['figure.dpi']\n",
    "mpl.rcParams['figure.dpi'] = default_dpi*factor"
   ]
  },
  {
   "cell_type": "code",
   "execution_count": 3,
   "id": "e4cf8fa4-908d-4409-9cc7-bf48af953e28",
   "metadata": {},
   "outputs": [],
   "source": [
    "def load_data(cfg, datafiles):\n",
    "    \"\"\"Loads csv data files and converts measurements to SI units using the defined config\n",
    "    \n",
    "    Parameters\n",
    "    ----------\n",
    "    cfg : dict\n",
    "        Board configuration\n",
    "    datafiles : list\n",
    "        List of data files paths\n",
    "        \n",
    "    Returns\n",
    "    -------\n",
    "    pd.DataFrame\n",
    "        Concatenated dataframe from all datafiles\n",
    "    \"\"\"\n",
    "    \n",
    "    df_list = []\n",
    "    for d in datafiles:\n",
    "        df = pd.read_csv(d)\n",
    "        df_list.append(df)\n",
    "    \n",
    "    data = pd.concat(df_list, ignore_index=True)\n",
    "    data  = df.set_index(\"V\")\n",
    "    \n",
    "    data[\"I_in\"] = data[\"I_in\"] * 1e6\n",
    "    data[\"I_meas\"] = data[\"V_i\"] / cfg[\"r_sense\"] / cfg[\"gain\"] * 1e6\n",
    "    data[\"V_meas\"] = data[\"V_2x\"] / 2.\n",
    "    \n",
    "    return data"
   ]
  },
  {
   "cell_type": "code",
   "execution_count": 4,
   "id": "66712edc-6716-436b-8ae7-81e35d6e5db6",
   "metadata": {},
   "outputs": [],
   "source": [
    "def load_rld(path, channel, start, stop, step):\n",
    "    \"\"\"Loads rocketlogger data from csv and truncates to the nearest step in the SMU.\n",
    "    \n",
    "    Parameters\n",
    "    ----------\n",
    "    path : str\n",
    "        Path to rocketlogger binary data\n",
    "    start : float\n",
    "        Starting source value\n",
    "    stop : float\n",
    "        Stopping source value\n",
    "    step : float\n",
    "        Step source value\n",
    "        \n",
    "    Returns\n",
    "    -------\n",
    "    pd.DataFrame\n",
    "        Dataframe of rocketlogger data\n",
    "    \"\"\"\n",
    "    \n",
    "    # Load RL binary data\n",
    "    rld = RocketLoggerData(path)\n",
    "    \n",
    "    source_range = np.arange(start, stop, step)\n",
    "    \n",
    "    def estimate_input(x):\n",
    "        \"\"\"Estimate the input voltage based on measure voltage\n",
    "\n",
    "        Parameters\n",
    "        ----------\n",
    "        x : float\n",
    "            Inputted row\n",
    "\n",
    "        Returns\n",
    "        -------\n",
    "        float\n",
    "            Closest value to v_range\n",
    "        \"\"\"\n",
    "\n",
    "        diff = np.abs(source_range - x)\n",
    "        idx = np.argmin(diff)\n",
    "        return source_range[idx]\n",
    "\n",
    "    rld_df = pd.DataFrame(rld.get_data(), columns=rld.get_channel_names())\n",
    "    rld_df[\"source\"] = rld_df[channel].apply(estimate_input)\n",
    "    rld_df[\"input\"] = rld_df[\"source\"]\n",
    "    rld_df = rld_df.set_index(\"source\")\n",
    "    return rld_df"
   ]
  },
  {
   "cell_type": "code",
   "execution_count": 5,
   "id": "b0c3f344-bebe-4abf-b22a-c0e70b1b06d4",
   "metadata": {},
   "outputs": [],
   "source": [
    "def calc_fit(x, y):\n",
    "    \"\"\"Calculates linear regression fit line given input x and output y.\n",
    "    \n",
    "    Parameters\n",
    "    ----------\n",
    "    x : Series\n",
    "        input\n",
    "    y : Series\n",
    "        output\n",
    "        \n",
    "    Returns\n",
    "    -------\n",
    "    Series\n",
    "        Fit line\n",
    "    \"\"\"\n",
    "    \n",
    "    linreg = stats.linregress(x, y)\n",
    "    fit = linreg.intercept + x * linreg.slope\n",
    "    return fit"
   ]
  },
  {
   "cell_type": "code",
   "execution_count": 6,
   "id": "194a3795-40bb-4dc8-82aa-4e9a88f27524",
   "metadata": {},
   "outputs": [],
   "source": [
    "# Config file name\n",
    "cfg_path = \"data/config.yaml\"\n",
    "# Data file name\n",
    "datafiles = [\"data/sps3_temp_2022-10-14T09:10:50-07:00.csv\", \"data/sps3_temp_2022-10-15T18:37:56-07:00.csv\"]\n",
    "# Evaluation data name\n",
    "evalfiles = [\"data/sps3_temp_2022-10-16T13:17:46-07:00.csv\"]"
   ]
  },
  {
   "cell_type": "code",
   "execution_count": 7,
   "id": "41380ed9-70ab-40aa-bc46-c28b08e5fb7a",
   "metadata": {},
   "outputs": [
    {
     "data": {
      "text/plain": [
       "{'r_load': 2200, 'r_sense': 249, 'gain': 10, 'ref': 'unidirectional'}"
      ]
     },
     "execution_count": 7,
     "metadata": {},
     "output_type": "execute_result"
    }
   ],
   "source": [
    "# Read config\n",
    "with open(cfg_path, \"r\") as f:\n",
    "    cfg = yaml.load(f, Loader=Loader)\n",
    "cfg"
   ]
  },
  {
   "cell_type": "code",
   "execution_count": 8,
   "id": "01b47a31-0d49-4e56-86d5-3541da0629d1",
   "metadata": {},
   "outputs": [],
   "source": [
    "# SPS data\n",
    "data = load_data(cfg, datafiles)\n",
    "\n",
    "v_model = linear_model.LinearRegression()\n",
    "v_model.fit(data[[\"V_meas\", \"T\"]], data[\"V_in\"])\n",
    "\n",
    "i_model = linear_model.LinearRegression()\n",
    "i_model.fit(data[[\"I_meas\", \"T\"]], data[\"I_in\"])\n",
    "\n",
    "eval_data = load_data(cfg, evalfiles)\n",
    "\n",
    "eval_data[\"V_fit\"] = v_model.predict(eval_data[[\"V_meas\", \"T\"]])\n",
    "eval_data[\"I_fit\"] = i_model.predict(eval_data[[\"I_meas\", \"T\"]])\n",
    "\n",
    "# RL data\n",
    "rld_v = load_rld(\"data/rl/20220826_200050_eval_v.rld\", \"V1\", 0.1, 1, 0.05)\n",
    "rld_i = load_rld(\"data/rl/20220826_200050_eval_i.rld\", \"I1L\", 45e-6, 454e-6, 22.7222e-6)\n",
    "# adjust units\n",
    "rld_i.index = rld_i.index * 1e6\n",
    "rld_i[\"input\"] = rld_i[\"input\"] * 1e6\n",
    "rld_i[\"I1L\"] = rld_i[\"I1L\"] * 1e6"
   ]
  },
  {
   "cell_type": "code",
   "execution_count": 9,
   "id": "3daf6f34-1ee7-453a-8988-0ca1b16c7f2b",
   "metadata": {},
   "outputs": [],
   "source": [
    "def plot_accuracy(data):\n",
    "    \"\"\"Plots a graph showing the accuracy of measurements y to ideal values x\n",
    "    \n",
    "    Parameters\n",
    "    ----------\n",
    "    data : list(tuple)\n",
    "        List of tuples in the format (idea, meas)\n",
    "    ideal : Series\n",
    "        True values\n",
    "    meas : Series\n",
    "        Measured values\n",
    "        \n",
    "    Returns\n",
    "    -------\n",
    "    fig, ax\n",
    "        Matplotlib figure, same format as plt.subplots\n",
    "    \"\"\"\n",
    "    \n",
    "    fig, ax = plt.subplots()\n",
    "    \n",
    "    for (x, y) in data:\n",
    "        rel = y / x\n",
    "        rel = rel.groupby(level=0).describe()\n",
    "        ax.errorbar(x.groupby(level=0).mean(), rel[\"mean\"], yerr=rel[\"std\"])\n",
    "        \n",
    "    ax.axhline(y=1, linestyle=':', color='k', linewidth='3')\n",
    "    ax.grid()\n",
    "    \n",
    "    return (fig, ax)"
   ]
  },
  {
   "cell_type": "code",
   "execution_count": 10,
   "id": "8fd7ac29-436a-4135-a656-65975f388c87",
   "metadata": {},
   "outputs": [
    {
     "data": {
      "text/plain": [
       "Text(0, 0.5, 'Relative Measurement (V/V)')"
      ]
     },
     "execution_count": 10,
     "metadata": {},
     "output_type": "execute_result"
    },
    {
     "data": {
      "image/png": "[encoded data removed]",
      "text/plain": [
       "<Figure size 432x288 with 1 Axes>"
      ]
     },
     "metadata": {
      "needs_background": "light"
     },
     "output_type": "display_data"
    }
   ],
   "source": [
    "fig, ax = plot_accuracy([\n",
    "    (data[\"V_in\"], data[\"V_meas\"]),\n",
    "\n",
    "])\n",
    "\n",
    "ax.set_title(\"Voltage Channel Accuracy Raw\")\n",
    "ax.set_xlabel(\"Input Voltage (V)\")\n",
    "ax.set_ylabel(\"Relative Measurement (V/V)\")"
   ]
  },
  {
   "cell_type": "code",
   "execution_count": 11,
   "id": "a6b32c56-5d5d-4c53-a8a9-608836b7c877",
   "metadata": {},
   "outputs": [
    {
     "data": {
      "text/plain": [
       "Text(0, 0.5, 'Relative Measurement (A/A)')"
      ]
     },
     "execution_count": 11,
     "metadata": {},
     "output_type": "execute_result"
    },
    {
     "data": {
      "image/png": "[encoded data removed]",
      "text/plain": [
       "<Figure size 432x288 with 1 Axes>"
      ]
     },
     "metadata": {
      "needs_background": "light"
     },
     "output_type": "display_data"
    }
   ],
   "source": [
    "fig, ax = plot_accuracy([\n",
    "    (data[\"I_in\"], data[\"I_meas\"]),\n",
    "])\n",
    "\n",
    "ax.set_title(\"Current Channel Accuracy Raw\")\n",
    "ax.set_xlabel(\"Input Current (uA)\")\n",
    "ax.set_ylabel(\"Relative Measurement (A/A)\")"
   ]
  },
  {
   "cell_type": "code",
   "execution_count": 20,
   "id": "13a903af-8983-4b4a-bad4-7ca8d483dea4",
   "metadata": {},
   "outputs": [
    {
     "data": {
      "image/png": "[encoded data removed]",
      "text/plain": [
       "<Figure size 432x288 with 1 Axes>"
      ]
     },
     "metadata": {
      "needs_background": "light"
     },
     "output_type": "display_data"
    }
   ],
   "source": [
    "fig, ax = plt.subplots()\n",
    "ax.axhline(y=0, linestyle=':', color='r', linewidth='2')\n",
    "ax.scatter(data[\"V_in\"], (data[\"V_meas\"] - data[\"V_in\"]) * 1e3)\n",
    "ax.set_title(\"Error between Measured and Sourced Voltage\")\n",
    "ax.set_xlabel(\"Input Voltage (V)\")\n",
    "ax.set_ylabel(\"Error (mV)\")\n",
    "ax.legend([\"Optimal\", \"Measured\"])\n",
    "ax.grid(True)"
   ]
  },
  {
   "cell_type": "code",
   "execution_count": 21,
   "id": "d9756b04-2c4f-486c-b320-5d6bdf79e529",
   "metadata": {},
   "outputs": [
    {
     "data": {
      "image/png": "[encoded data removed]",
      "text/plain": [
       "<Figure size 432x288 with 1 Axes>"
      ]
     },
     "metadata": {
      "needs_background": "light"
     },
     "output_type": "display_data"
    }
   ],
   "source": [
    "fig, ax = plt.subplots()\n",
    "ax.axhline(y=0, linestyle=':', color='r', linewidth='2')\n",
    "ax.scatter(data[\"I_in\"], data[\"I_meas\"] - data[\"I_in\"])\n",
    "ax.set_title(\"Error between Measured and Sourced Current\")\n",
    "ax.set_xlabel(\"Input Voltage (uA)\")\n",
    "ax.set_ylabel(\"Error (uA)\")\n",
    "ax.legend([\"Optimal\", \"Measured\"])\n",
    "ax.grid(True)"
   ]
  },
  {
   "cell_type": "code",
   "execution_count": 14,
   "id": "e7f08eda-b737-4cd8-b0da-eb74b02788e7",
   "metadata": {},
   "outputs": [
    {
     "data": {
      "text/plain": [
       "<matplotlib.legend.Legend at 0x7ff06ade96f0>"
      ]
     },
     "execution_count": 14,
     "metadata": {},
     "output_type": "execute_result"
    },
    {
     "data": {
      "image/png": "[encoded data removed]",
      "text/plain": [
       "<Figure size 432x288 with 1 Axes>"
      ]
     },
     "metadata": {
      "needs_background": "light"
     },
     "output_type": "display_data"
    }
   ],
   "source": [
    "fig, ax = plot_accuracy([\n",
    "    (eval_data[\"V_in\"], eval_data[\"V_fit\"]),\n",
    "    (rld_v[\"input\"], rld_v[\"V1\"]),\n",
    "])\n",
    "\n",
    "ax.set_title(\"Voltage Channel Accuracy Calibrated\")\n",
    "ax.set_xlabel(\"Input Voltage (V)\")\n",
    "ax.set_ylabel(\"Relative Measurement (V/V)\")\n",
    "ax.legend([\"Idea\", \"SPS\", \"RocketLogger\"])"
   ]
  },
  {
   "cell_type": "code",
   "execution_count": 15,
   "id": "9c1cbb7a-d40f-48c6-96fa-389f65aa6bca",
   "metadata": {},
   "outputs": [
    {
     "data": {
      "text/plain": [
       "<matplotlib.legend.Legend at 0x7ff06ab87eb0>"
      ]
     },
     "execution_count": 15,
     "metadata": {},
     "output_type": "execute_result"
    },
    {
     "data": {
      "image/png": "[encoded data removed]",
      "text/plain": [
       "<Figure size 432x288 with 1 Axes>"
      ]
     },
     "metadata": {
      "needs_background": "light"
     },
     "output_type": "display_data"
    }
   ],
   "source": [
    "fig, ax = plot_accuracy([\n",
    "    (eval_data[\"I_in\"], eval_data[\"I_fit\"]),\n",
    "    (rld_i[\"input\"], rld_i[\"I1L\"]),\n",
    "])\n",
    "\n",
    "ax.set_title(\"Current Channel Accuracy Calibrated\")\n",
    "ax.set_xlabel(\"Input Current (uA)\")\n",
    "ax.set_ylabel(\"Relative Measurement (A/A)\")\n",
    "#ax.set_ylim(0.99, 1.06)\n",
    "ax.legend([\"Ideal\", \"SPS\", \"RocketLogger\"])"
   ]
  },
  {
   "cell_type": "code",
   "execution_count": 16,
   "id": "f9f499d5-46fd-4e65-8dbc-1552453c2c9d",
   "metadata": {},
   "outputs": [
    {
     "data": {
      "text/plain": [
       "count    1800.000000\n",
       "mean        0.006086\n",
       "std         0.006009\n",
       "min         0.000898\n",
       "25%         0.002212\n",
       "50%         0.003633\n",
       "75%         0.007279\n",
       "max         0.026887\n",
       "dtype: float64"
      ]
     },
     "execution_count": 16,
     "metadata": {},
     "output_type": "execute_result"
    }
   ],
   "source": [
    "mae_v = abs(eval_data[\"V_in\"] - eval_data[\"V_fit\"]) / eval_data[\"V_in\"]\n",
    "mae_v.describe()"
   ]
  },
  {
   "cell_type": "code",
   "execution_count": 17,
   "id": "90914e86-45a2-4ed8-a8a3-7b384241bed1",
   "metadata": {},
   "outputs": [
    {
     "data": {
      "text/plain": [
       "count    1800.000000\n",
       "mean        0.002883\n",
       "std         0.002315\n",
       "min         0.000631\n",
       "25%         0.001342\n",
       "50%         0.002035\n",
       "75%         0.003460\n",
       "max         0.010560\n",
       "dtype: float64"
      ]
     },
     "execution_count": 17,
     "metadata": {},
     "output_type": "execute_result"
    }
   ],
   "source": [
    "mae_i = abs(eval_data[\"I_in\"] - eval_data[\"I_fit\"]) / eval_data[\"I_in\"]\n",
    "mae_i.describe()"
   ]
  },
  {
   "cell_type": "code",
   "execution_count": 18,
   "id": "6696d6d3-60f3-49b7-b9ee-67fe17a477fc",
   "metadata": {},
   "outputs": [
    {
     "data": {
      "text/plain": [
       "count    2.100000e+04\n",
       "mean     2.585558e-03\n",
       "std      8.061865e-03\n",
       "min      1.578984e-16\n",
       "25%      2.965882e-04\n",
       "50%      6.321702e-04\n",
       "75%      1.743333e-03\n",
       "max      8.313684e-02\n",
       "dtype: float64"
      ]
     },
     "execution_count": 18,
     "metadata": {},
     "output_type": "execute_result"
    }
   ],
   "source": [
    "rl_mae_v = abs(rld_i[\"input\"] - rld_i[\"I1L\"]) / rld_i[\"input\"]\n",
    "rl_mae_v.describe()"
   ]
  },
  {
   "cell_type": "code",
   "execution_count": 19,
   "id": "f2918ab0-0392-45d1-9d1f-0b4fb949e69d",
   "metadata": {},
   "outputs": [
    {
     "data": {
      "text/plain": [
       "count    2.300000e+04\n",
       "mean     2.187147e-02\n",
       "std      2.383356e-02\n",
       "min      2.220446e-16\n",
       "25%      7.142600e-04\n",
       "50%      7.993900e-03\n",
       "75%      5.183595e-02\n",
       "max      2.165464e-01\n",
       "dtype: float64"
      ]
     },
     "execution_count": 19,
     "metadata": {},
     "output_type": "execute_result"
    }
   ],
   "source": [
    "rl_mae_i = abs(rld_v[\"input\"] - rld_v[\"V1\"]) / rld_v[\"input\"]\n",
    "rl_mae_i.describe()"
   ]
  },
  {
   "cell_type": "code",
   "execution_count": null,
   "id": "f37a0e2a-fd89-4a99-a66f-017d1a98408b",
   "metadata": {},
   "outputs": [],
   "source": []
  }
 ],
 "metadata": {
  "kernelspec": {
   "display_name": ".venv",
   "language": "python",
   "name": ".venv"
  },
  "language_info": {
   "codemirror_mode": {
    "name": "ipython",
    "version": 3
   },
   "file_extension": ".py",
   "mimetype": "text/x-python",
   "name": "python",
   "nbconvert_exporter": "python",
   "pygments_lexer": "ipython3",
   "version": "3.10.7"
  }
 },
 "nbformat": 4,
 "nbformat_minor": 5
}
