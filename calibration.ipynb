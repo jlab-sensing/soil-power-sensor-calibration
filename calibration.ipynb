{
 "cells": [
  {
   "cell_type": "code",
   "execution_count": 1,
   "id": "90cd3cea-8b5d-4783-9168-be0fb224543e",
   "metadata": {},
   "outputs": [],
   "source": [
    "import os\n",
    "\n",
    "from sklearn import linear_model\n",
    "import pandas as pd\n",
    "import numpy as np\n",
    "\n",
    "import matplotlib as mpl\n",
    "import matplotlib.pyplot as plt\n",
    "\n",
    "from rocketlogger.data import RocketLoggerData\n",
    "\n",
    "import yaml\n",
    "try:\n",
    "    from yaml import CLoader as Loader\n",
    "except ImportErorr:\n",
    "    from yaml import Loader"
   ]
  },
  {
   "cell_type": "code",
   "execution_count": 2,
   "id": "e4cf8fa4-908d-4409-9cc7-bf48af953e28",
   "metadata": {
    "tags": []
   },
   "outputs": [],
   "source": [
    "def load_data(cfg, datafiles):\n",
    "    \"\"\"Loads csv data files and converts measurements to SI units using the defined config\n",
    "    \n",
    "    Parameters\n",
    "    ----------\n",
    "    cfg : dict\n",
    "        Board configuration\n",
    "    datafiles : list\n",
    "        List of data files paths\n",
    "        \n",
    "    Returns\n",
    "    -------\n",
    "    pd.DataFrame\n",
    "        Concatenated dataframe from all datafiles\n",
    "    \"\"\"\n",
    "    \n",
    "    df_list = []\n",
    "    for d in datafiles:\n",
    "        df = pd.read_csv(d)\n",
    "        df_list.append(df)\n",
    "    \n",
    "    data = pd.concat(df_list, ignore_index=True)\n",
    "    data  = df.set_index(\"V\")\n",
    "    \n",
    "    data[\"I_in\"] = data[\"I_in\"] * 1e6\n",
    "    data[\"I_meas\"] = data[\"V_i\"] / cfg[\"r_sense\"] / cfg[\"gain\"] * 1e6\n",
    "    data[\"V_meas\"] = data[\"V_2x\"]\n",
    "    \n",
    "    return data"
   ]
  },
  {
   "cell_type": "code",
   "execution_count": 3,
   "id": "66712edc-6716-436b-8ae7-81e35d6e5db6",
   "metadata": {
    "jupyter": {
     "source_hidden": true
    },
    "tags": []
   },
   "outputs": [],
   "source": [
    "def load_rld(path, channel, start, stop, step):\n",
    "    \"\"\"Loads rocketlogger data from csv and truncates to the nearest step in the SMU.\n",
    "    \n",
    "    Parameters\n",
    "    ----------\n",
    "    path : str\n",
    "        Path to rocketlogger binary data\n",
    "    start : float\n",
    "        Starting source value\n",
    "    stop : float\n",
    "        Stopping source value\n",
    "    step : float\n",
    "        Step source value\n",
    "        \n",
    "    Returns\n",
    "    -------\n",
    "    pd.DataFrame\n",
    "        Dataframe of rocketlogger data\n",
    "    \"\"\"\n",
    "    \n",
    "    # Load RL binary data\n",
    "    rld = RocketLoggerData(path)\n",
    "    \n",
    "    source_range = np.arange(start, stop, step)\n",
    "    \n",
    "    def estimate_input(x):\n",
    "        \"\"\"Estimate the input voltage based on measure voltage\n",
    "\n",
    "        Parameters\n",
    "        ----------\n",
    "        x : float\n",
    "            Inputted row\n",
    "\n",
    "        Returns\n",
    "        -------\n",
    "        float\n",
    "            Closest value to v_range\n",
    "        \"\"\"\n",
    "\n",
    "        diff = np.abs(source_range - x)\n",
    "        idx = np.argmin(diff)\n",
    "        return source_range[idx]\n",
    "\n",
    "    rld_df = pd.DataFrame(rld.get_data(), columns=rld.get_channel_names())\n",
    "    rld_df[\"source\"] = rld_df[channel].apply(estimate_input)\n",
    "    rld_df[\"input\"] = rld_df[\"source\"]\n",
    "    rld_df = rld_df.set_index(\"source\")\n",
    "    return rld_df"
   ]
  },
  {
   "cell_type": "code",
   "execution_count": 4,
   "id": "41380ed9-70ab-40aa-bc46-c28b08e5fb7a",
   "metadata": {},
   "outputs": [],
   "source": [
    "# Config file name\n",
    "cfg_path = \"data/config.yaml\"\n",
    "# Data file name\n",
    "datafiles = [\"data/sps3_temp_2022-10-14T09:10:50-07:00.csv\"]\n",
    "# Evaluation data name\n",
    "evalfiles = [\"data/sps3_temp_2022-10-15T18:37:56-07:00.csv\"]\n",
    "\n",
    "# Read config\n",
    "with open(cfg_path, \"r\") as f:\n",
    "    cfg = yaml.load(f, Loader=Loader)\n",
    "\n",
    "# SPS data\n",
    "data = load_data(cfg, datafiles)\n",
    "\n",
    "v_input_cols = [\"V_meas\"]\n",
    "i_input_cols = [\"I_meas\"]\n",
    "\n",
    "v_model = linear_model.LinearRegression()\n",
    "v_model.fit(data[v_input_cols], data[\"V_in\"])\n",
    "\n",
    "i_model = linear_model.LinearRegression()\n",
    "i_model.fit(data[i_input_cols], data[\"I_in\"])\n",
    "\n",
    "eval_data = load_data(cfg, evalfiles)\n",
    "\n",
    "eval_data[\"V_fit\"] = v_model.predict(eval_data[v_input_cols])\n",
    "eval_data[\"I_fit\"] = i_model.predict(eval_data[i_input_cols])\n",
    "\n",
    "# RL data\n",
    "rld_v = load_rld(\"data/rl/20220826_200050_eval_v.rld\", \"V1\", 0.1, 1, 0.05)\n",
    "rld_i = load_rld(\"data/rl/20220826_200050_eval_i.rld\", \"I1L\", 45e-6, 454e-6, 22.7222e-6)\n",
    "# adjust units\n",
    "rld_i.index = rld_i.index * 1e6\n",
    "rld_i[\"input\"] = rld_i[\"input\"] * 1e6\n",
    "rld_i[\"I1L\"] = rld_i[\"I1L\"] * 1e6"
   ]
  },
  {
   "cell_type": "code",
   "execution_count": 5,
   "id": "e5eecba9-4f1f-41a6-b5d5-99808dd4146f",
   "metadata": {},
   "outputs": [
    {
     "data": {
      "text/html": [
       "<div>\n",
       "<style scoped>\n",
       "    .dataframe tbody tr th:only-of-type {\n",
       "        vertical-align: middle;\n",
       "    }\n",
       "\n",
       "    .dataframe tbody tr th {\n",
       "        vertical-align: top;\n",
       "    }\n",
       "\n",
       "    .dataframe thead th {\n",
       "        text-align: right;\n",
       "    }\n",
       "</style>\n",
       "<table border=\"1\" class=\"dataframe\">\n",
       "  <thead>\n",
       "    <tr style=\"text-align: right;\">\n",
       "      <th></th>\n",
       "      <th>V_in</th>\n",
       "      <th>I_in</th>\n",
       "      <th>V_i</th>\n",
       "      <th>V_2x</th>\n",
       "      <th>T</th>\n",
       "      <th>I_meas</th>\n",
       "      <th>V_meas</th>\n",
       "    </tr>\n",
       "    <tr>\n",
       "      <th>V</th>\n",
       "      <th></th>\n",
       "      <th></th>\n",
       "      <th></th>\n",
       "      <th></th>\n",
       "      <th></th>\n",
       "      <th></th>\n",
       "      <th></th>\n",
       "    </tr>\n",
       "  </thead>\n",
       "  <tbody>\n",
       "    <tr>\n",
       "      <th>0.10</th>\n",
       "      <td>0.100077</td>\n",
       "      <td>50.67846</td>\n",
       "      <td>0.207479</td>\n",
       "      <td>0.107403</td>\n",
       "      <td>21.420000</td>\n",
       "      <td>83.324900</td>\n",
       "      <td>0.107403</td>\n",
       "    </tr>\n",
       "    <tr>\n",
       "      <th>0.10</th>\n",
       "      <td>0.100075</td>\n",
       "      <td>50.67866</td>\n",
       "      <td>0.207583</td>\n",
       "      <td>0.107298</td>\n",
       "      <td>21.629999</td>\n",
       "      <td>83.366667</td>\n",
       "      <td>0.107298</td>\n",
       "    </tr>\n",
       "    <tr>\n",
       "      <th>0.10</th>\n",
       "      <td>0.100075</td>\n",
       "      <td>50.67761</td>\n",
       "      <td>0.207535</td>\n",
       "      <td>0.107411</td>\n",
       "      <td>21.629999</td>\n",
       "      <td>83.347390</td>\n",
       "      <td>0.107411</td>\n",
       "    </tr>\n",
       "    <tr>\n",
       "      <th>0.10</th>\n",
       "      <td>0.100074</td>\n",
       "      <td>50.67751</td>\n",
       "      <td>0.207640</td>\n",
       "      <td>0.107282</td>\n",
       "      <td>21.639999</td>\n",
       "      <td>83.389558</td>\n",
       "      <td>0.107282</td>\n",
       "    </tr>\n",
       "    <tr>\n",
       "      <th>0.10</th>\n",
       "      <td>0.100076</td>\n",
       "      <td>50.67684</td>\n",
       "      <td>0.207551</td>\n",
       "      <td>0.107331</td>\n",
       "      <td>21.639999</td>\n",
       "      <td>83.353815</td>\n",
       "      <td>0.107331</td>\n",
       "    </tr>\n",
       "    <tr>\n",
       "      <th>...</th>\n",
       "      <td>...</td>\n",
       "      <td>...</td>\n",
       "      <td>...</td>\n",
       "      <td>...</td>\n",
       "      <td>...</td>\n",
       "      <td>...</td>\n",
       "      <td>...</td>\n",
       "    </tr>\n",
       "    <tr>\n",
       "      <th>0.95</th>\n",
       "      <td>0.949981</td>\n",
       "      <td>396.44800</td>\n",
       "      <td>1.902833</td>\n",
       "      <td>0.962736</td>\n",
       "      <td>21.660000</td>\n",
       "      <td>764.189960</td>\n",
       "      <td>0.962736</td>\n",
       "    </tr>\n",
       "    <tr>\n",
       "      <th>0.95</th>\n",
       "      <td>0.949981</td>\n",
       "      <td>396.44640</td>\n",
       "      <td>1.902833</td>\n",
       "      <td>0.962785</td>\n",
       "      <td>21.650000</td>\n",
       "      <td>764.189960</td>\n",
       "      <td>0.962785</td>\n",
       "    </tr>\n",
       "    <tr>\n",
       "      <th>0.95</th>\n",
       "      <td>0.949980</td>\n",
       "      <td>396.44570</td>\n",
       "      <td>1.902813</td>\n",
       "      <td>0.963002</td>\n",
       "      <td>21.660000</td>\n",
       "      <td>764.181928</td>\n",
       "      <td>0.963002</td>\n",
       "    </tr>\n",
       "    <tr>\n",
       "      <th>0.95</th>\n",
       "      <td>0.949980</td>\n",
       "      <td>396.44580</td>\n",
       "      <td>1.902829</td>\n",
       "      <td>0.963183</td>\n",
       "      <td>21.639999</td>\n",
       "      <td>764.188353</td>\n",
       "      <td>0.963183</td>\n",
       "    </tr>\n",
       "    <tr>\n",
       "      <th>0.95</th>\n",
       "      <td>0.949977</td>\n",
       "      <td>396.44600</td>\n",
       "      <td>1.902878</td>\n",
       "      <td>0.962994</td>\n",
       "      <td>21.650000</td>\n",
       "      <td>764.208032</td>\n",
       "      <td>0.962994</td>\n",
       "    </tr>\n",
       "  </tbody>\n",
       "</table>\n",
       "<p>1800 rows × 7 columns</p>\n",
       "</div>"
      ],
      "text/plain": [
       "          V_in       I_in       V_i      V_2x          T      I_meas    V_meas\n",
       "V                                                                             \n",
       "0.10  0.100077   50.67846  0.207479  0.107403  21.420000   83.324900  0.107403\n",
       "0.10  0.100075   50.67866  0.207583  0.107298  21.629999   83.366667  0.107298\n",
       "0.10  0.100075   50.67761  0.207535  0.107411  21.629999   83.347390  0.107411\n",
       "0.10  0.100074   50.67751  0.207640  0.107282  21.639999   83.389558  0.107282\n",
       "0.10  0.100076   50.67684  0.207551  0.107331  21.639999   83.353815  0.107331\n",
       "...        ...        ...       ...       ...        ...         ...       ...\n",
       "0.95  0.949981  396.44800  1.902833  0.962736  21.660000  764.189960  0.962736\n",
       "0.95  0.949981  396.44640  1.902833  0.962785  21.650000  764.189960  0.962785\n",
       "0.95  0.949980  396.44570  1.902813  0.963002  21.660000  764.181928  0.963002\n",
       "0.95  0.949980  396.44580  1.902829  0.963183  21.639999  764.188353  0.963183\n",
       "0.95  0.949977  396.44600  1.902878  0.962994  21.650000  764.208032  0.962994\n",
       "\n",
       "[1800 rows x 7 columns]"
      ]
     },
     "execution_count": 5,
     "metadata": {},
     "output_type": "execute_result"
    }
   ],
   "source": [
    "data"
   ]
  },
  {
   "cell_type": "code",
   "execution_count": 6,
   "id": "3daf6f34-1ee7-453a-8988-0ca1b16c7f2b",
   "metadata": {
    "tags": []
   },
   "outputs": [],
   "source": [
    "def plot_accuracy(data):\n",
    "    \"\"\"Plots a graph showing the accuracy of measurements y to ideal values x\n",
    "    \n",
    "    Parameters\n",
    "    ----------\n",
    "    data : list(tuple)\n",
    "        List of tuples in the format (ideal, meas)\n",
    "        \n",
    "    Returns\n",
    "    -------\n",
    "    fig, ax\n",
    "        Matplotlib figure, same format as plt.subplots\n",
    "    \"\"\"\n",
    "    \n",
    "    fig, ax = plt.subplots()\n",
    "    \n",
    "    for (x, y) in data:\n",
    "        rel = y / x\n",
    "        rel = rel.groupby(level=0).describe()\n",
    "        ax.errorbar(x.groupby(level=0).mean(), rel[\"mean\"], yerr=rel[\"std\"])\n",
    "        \n",
    "    ax.axhline(y=1, linestyle=':', color='k', linewidth='3')\n",
    "    ax.grid()\n",
    "    \n",
    "    return (fig, ax)"
   ]
  },
  {
   "cell_type": "code",
   "execution_count": 7,
   "id": "8fd7ac29-436a-4135-a656-65975f388c87",
   "metadata": {},
   "outputs": [
    {
     "data": {
      "text/plain": [
       "Text(0, 0.5, 'Relative Measurement (V/V)')"
      ]
     },
     "execution_count": 7,
     "metadata": {},
     "output_type": "execute_result"
    },
    {
     "data": {
      "image/png": "[encoded data removed]",
      "text/plain": [
       "<Figure size 432x288 with 1 Axes>"
      ]
     },
     "metadata": {
      "needs_background": "light"
     },
     "output_type": "display_data"
    }
   ],
   "source": [
    "fig, ax = plot_accuracy([\n",
    "    (data[\"V_in\"], data[\"V_meas\"]),\n",
    "\n",
    "])\n",
    "\n",
    "ax.set_title(\"Voltage Channel Accuracy Raw\")\n",
    "ax.set_xlabel(\"Input Voltage (V)\")\n",
    "ax.set_ylabel(\"Relative Measurement (V/V)\")"
   ]
  },
  {
   "cell_type": "code",
   "execution_count": 8,
   "id": "a6b32c56-5d5d-4c53-a8a9-608836b7c877",
   "metadata": {},
   "outputs": [
    {
     "data": {
      "text/plain": [
       "Text(0, 0.5, 'Relative Measurement (A/A)')"
      ]
     },
     "execution_count": 8,
     "metadata": {},
     "output_type": "execute_result"
    },
    {
     "data": {
      "image/png": "[encoded data removed]",
      "text/plain": [
       "<Figure size 432x288 with 1 Axes>"
      ]
     },
     "metadata": {
      "needs_background": "light"
     },
     "output_type": "display_data"
    }
   ],
   "source": [
    "fig, ax = plot_accuracy([\n",
    "    (data[\"I_in\"], data[\"I_meas\"]),\n",
    "])\n",
    "\n",
    "ax.set_title(\"Current Channel Accuracy Raw\")\n",
    "ax.set_xlabel(\"Input Current (uA)\")\n",
    "ax.set_ylabel(\"Relative Measurement (A/A)\")"
   ]
  },
  {
   "cell_type": "code",
   "execution_count": 9,
   "id": "13a903af-8983-4b4a-bad4-7ca8d483dea4",
   "metadata": {},
   "outputs": [
    {
     "name": "stderr",
     "output_type": "stream",
     "text": [
      "The PostScript backend does not support transparency; partially transparent artists will be rendered opaque.\n"
     ]
    },
    {
     "data": {
      "image/png": "[encoded data removed]",
      "text/plain": [
       "<Figure size 432x288 with 1 Axes>"
      ]
     },
     "metadata": {
      "needs_background": "light"
     },
     "output_type": "display_data"
    }
   ],
   "source": [
    "fig, ax = plt.subplots()\n",
    "ax.axhline(y=0, linestyle=':', color='r', linewidth='2')\n",
    "ax.scatter(data[\"V_in\"], (data[\"V_meas\"] - data[\"V_in\"]) * 1e3)\n",
    "ax.set_title(\"Error between Measured and Sourced Voltage\")\n",
    "ax.set_xlabel(\"Input Voltage (V)\")\n",
    "ax.set_ylabel(\"Error (mV)\")\n",
    "ax.legend([\"Optimal\", \"Measured\"])\n",
    "ax.grid(True)\n",
    "fig.savefig(\"nonlin_v.eps\")"
   ]
  },
  {
   "cell_type": "code",
   "execution_count": 10,
   "id": "d9756b04-2c4f-486c-b320-5d6bdf79e529",
   "metadata": {},
   "outputs": [
    {
     "name": "stderr",
     "output_type": "stream",
     "text": [
      "The PostScript backend does not support transparency; partially transparent artists will be rendered opaque.\n"
     ]
    },
    {
     "data": {
      "image/png": "[encoded data removed]",
      "text/plain": [
       "<Figure size 432x288 with 1 Axes>"
      ]
     },
     "metadata": {
      "needs_background": "light"
     },
     "output_type": "display_data"
    }
   ],
   "source": [
    "fig, ax = plt.subplots()\n",
    "ax.axhline(y=0, linestyle=':', color='r', linewidth='2')\n",
    "ax.scatter(data[\"I_in\"], data[\"I_meas\"] - data[\"I_in\"])\n",
    "ax.set_title(\"Error between Measured and Sourced Current\")\n",
    "ax.set_xlabel(\"Input Voltage (uA)\")\n",
    "ax.set_ylabel(\"Error (uA)\")\n",
    "ax.legend([\"Optimal\", \"Measured\"])\n",
    "ax.grid(True)\n",
    "fig.savefig(\"nonline_i.eps\")"
   ]
  },
  {
   "cell_type": "code",
   "execution_count": 11,
   "id": "e7f08eda-b737-4cd8-b0da-eb74b02788e7",
   "metadata": {},
   "outputs": [
    {
     "name": "stderr",
     "output_type": "stream",
     "text": [
      "The PostScript backend does not support transparency; partially transparent artists will be rendered opaque.\n"
     ]
    },
    {
     "data": {
      "image/png": "[encoded data removed]",
      "text/plain": [
       "<Figure size 432x288 with 1 Axes>"
      ]
     },
     "metadata": {
      "needs_background": "light"
     },
     "output_type": "display_data"
    }
   ],
   "source": [
    "fig, ax = plot_accuracy([\n",
    "    (eval_data[\"V_in\"], eval_data[\"V_fit\"]),\n",
    "    (rld_v[\"input\"], rld_v[\"V1\"]),\n",
    "])\n",
    "\n",
    "ax.set_title(\"Voltage Channel Accuracy Calibrated\")\n",
    "ax.set_xlabel(\"Input Voltage (V)\")\n",
    "ax.set_ylabel(\"Relative Measurement (V/V)\")\n",
    "ax.legend([\"Idea\", \"SPS\", \"RocketLogger\"])\n",
    "fig.savefig(\"acc_v.eps\")"
   ]
  },
  {
   "cell_type": "code",
   "execution_count": 12,
   "id": "9c1cbb7a-d40f-48c6-96fa-389f65aa6bca",
   "metadata": {},
   "outputs": [
    {
     "name": "stderr",
     "output_type": "stream",
     "text": [
      "The PostScript backend does not support transparency; partially transparent artists will be rendered opaque.\n"
     ]
    },
    {
     "data": {
      "image/png": "[encoded data removed]",
      "text/plain": [
       "<Figure size 432x288 with 1 Axes>"
      ]
     },
     "metadata": {
      "needs_background": "light"
     },
     "output_type": "display_data"
    }
   ],
   "source": [
    "fig, ax = plot_accuracy([\n",
    "    (eval_data[\"I_in\"], eval_data[\"I_fit\"]),\n",
    "    (rld_i[\"input\"], rld_i[\"I1L\"]),\n",
    "])\n",
    "\n",
    "ax.set_title(\"Current Channel Accuracy Calibrated\")\n",
    "ax.set_xlabel(\"Input Current (uA)\")\n",
    "ax.set_ylabel(\"Relative Measurement (A/A)\")\n",
    "ax.set_ylim(0.99, 1.06)\n",
    "ax.legend([\"Ideal\", \"SPS\", \"RocketLogger\"])\n",
    "fig.savefig(\"acc_i.eps\")"
   ]
  },
  {
   "cell_type": "markdown",
   "id": "73df7bcb-5fa5-411f-bd16-d27351e58a1d",
   "metadata": {},
   "source": [
    "## SPS Voltage Accuracy"
   ]
  },
  {
   "cell_type": "code",
   "execution_count": 13,
   "id": "f9f499d5-46fd-4e65-8dbc-1552453c2c9d",
   "metadata": {},
   "outputs": [
    {
     "data": {
      "text/plain": [
       "count    1800.000000\n",
       "mean        0.001805\n",
       "std         0.000978\n",
       "min         0.000006\n",
       "25%         0.001133\n",
       "50%         0.001790\n",
       "75%         0.002328\n",
       "max         0.006106\n",
       "dtype: float64"
      ]
     },
     "execution_count": 13,
     "metadata": {},
     "output_type": "execute_result"
    }
   ],
   "source": [
    "mae_v = abs(eval_data[\"V_in\"] - eval_data[\"V_fit\"]) / eval_data[\"V_in\"]\n",
    "mae_v.describe()"
   ]
  },
  {
   "cell_type": "markdown",
   "id": "7db1c02b-8ba7-4c05-ae7b-b3a15e5458df",
   "metadata": {},
   "source": [
    "## SPS Current Accuracy"
   ]
  },
  {
   "cell_type": "code",
   "execution_count": 14,
   "id": "90914e86-45a2-4ed8-a8a3-7b384241bed1",
   "metadata": {},
   "outputs": [
    {
     "data": {
      "text/plain": [
       "count    1800.000000\n",
       "mean        0.003690\n",
       "std         0.002143\n",
       "min         0.001067\n",
       "25%         0.001870\n",
       "50%         0.003286\n",
       "75%         0.004946\n",
       "max         0.010084\n",
       "dtype: float64"
      ]
     },
     "execution_count": 14,
     "metadata": {},
     "output_type": "execute_result"
    }
   ],
   "source": [
    "mae_i = abs(eval_data[\"I_in\"] - eval_data[\"I_fit\"]) / eval_data[\"I_in\"]\n",
    "mae_i.describe()"
   ]
  },
  {
   "cell_type": "markdown",
   "id": "11f45a0d-9f13-47ae-8530-cd7bb410717d",
   "metadata": {},
   "source": [
    "## Rocketlogger Voltage Accuracy"
   ]
  },
  {
   "cell_type": "code",
   "execution_count": 15,
   "id": "6696d6d3-60f3-49b7-b9ee-67fe17a477fc",
   "metadata": {},
   "outputs": [
    {
     "data": {
      "text/plain": [
       "count    2.100000e+04\n",
       "mean     2.585558e-03\n",
       "std      8.061865e-03\n",
       "min      1.578984e-16\n",
       "25%      2.965882e-04\n",
       "50%      6.321702e-04\n",
       "75%      1.743333e-03\n",
       "max      8.313684e-02\n",
       "dtype: float64"
      ]
     },
     "execution_count": 15,
     "metadata": {},
     "output_type": "execute_result"
    }
   ],
   "source": [
    "rl_mae_v = abs(rld_i[\"input\"] - rld_i[\"I1L\"]) / rld_i[\"input\"]\n",
    "rl_mae_v.describe()"
   ]
  },
  {
   "cell_type": "markdown",
   "id": "5686a1f2-a2ca-4dcd-bc26-1489fc2896a8",
   "metadata": {},
   "source": [
    "## Rocketlogger Current Accuracy"
   ]
  },
  {
   "cell_type": "code",
   "execution_count": 16,
   "id": "f2918ab0-0392-45d1-9d1f-0b4fb949e69d",
   "metadata": {},
   "outputs": [
    {
     "data": {
      "text/plain": [
       "count    2.300000e+04\n",
       "mean     2.187147e-02\n",
       "std      2.383356e-02\n",
       "min      2.220446e-16\n",
       "25%      7.142600e-04\n",
       "50%      7.993900e-03\n",
       "75%      5.183595e-02\n",
       "max      2.165464e-01\n",
       "dtype: float64"
      ]
     },
     "execution_count": 16,
     "metadata": {},
     "output_type": "execute_result"
    }
   ],
   "source": [
    "rl_mae_i = abs(rld_v[\"input\"] - rld_v[\"V1\"]) / rld_v[\"input\"]\n",
    "rl_mae_i.describe()"
   ]
  },
  {
   "cell_type": "code",
   "execution_count": null,
   "id": "04a9a1bd-68c1-427d-920c-46d6f633b6db",
   "metadata": {},
   "outputs": [],
   "source": []
  }
 ],
 "metadata": {
  "kernelspec": {
   "display_name": ".venv",
   "language": "python",
   "name": ".venv"
  },
  "language_info": {
   "codemirror_mode": {
    "name": "ipython",
    "version": 3
   },
   "file_extension": ".py",
   "mimetype": "text/x-python",
   "name": "python",
   "nbconvert_exporter": "python",
   "pygments_lexer": "ipython3",
   "version": "3.10.7"
  }
 },
 "nbformat": 4,
 "nbformat_minor": 5
}
