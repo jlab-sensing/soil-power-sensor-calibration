{
 "cells": [
  {
   "cell_type": "code",
   "execution_count": 1,
   "id": "ebc1eb97-07cd-45be-9a3e-88e81fd44ac6",
   "metadata": {},
   "outputs": [],
   "source": [
    "import pandas as pd\n",
    "import numpy as np\n",
    "from scipy import stats\n",
    "import matplotlib as mpl\n",
    "import matplotlib.pyplot as plt\n",
    "import yaml\n",
    "try:\n",
    "    from yaml import CLoader as Loader\n",
    "except ImportError:\n",
    "    from yaml import Loader"
   ]
  },
  {
   "cell_type": "code",
   "execution_count": 2,
   "id": "29cd12c9-a75f-484d-8c59-c943a99f5a7c",
   "metadata": {},
   "outputs": [],
   "source": [
    "name = \"sps1\"\n",
    "filename_csv = f\"data/{name}.csv\"\n",
    "filename_yaml = f\"data/{name}.yaml\""
   ]
  },
  {
   "cell_type": "code",
   "execution_count": 3,
   "id": "8c1fb345-0833-4f16-acc5-90e665382302",
   "metadata": {},
   "outputs": [
    {
     "data": {
      "text/plain": [
       "{'date': datetime.date(2022, 7, 18),\n",
       " 'vcc': 3.25,\n",
       " 'r_load': 2194,\n",
       " 'r_sense': 100,\n",
       " 'gain': 100,\n",
       " 'ref': 'unidirectional'}"
      ]
     },
     "execution_count": 3,
     "metadata": {},
     "output_type": "execute_result"
    }
   ],
   "source": [
    "# Load configuration\n",
    "with open(filename_yaml, \"r\") as f:\n",
    "    config = yaml.load(f, Loader=Loader)\n",
    "config"
   ]
  },
  {
   "cell_type": "code",
   "execution_count": 4,
   "id": "f89573e9-0783-44a0-9560-3cd5e76bbc42",
   "metadata": {},
   "outputs": [
    {
     "data": {
      "text/html": [
       "<div>\n",
       "<style scoped>\n",
       "    .dataframe tbody tr th:only-of-type {\n",
       "        vertical-align: middle;\n",
       "    }\n",
       "\n",
       "    .dataframe tbody tr th {\n",
       "        vertical-align: top;\n",
       "    }\n",
       "\n",
       "    .dataframe thead th {\n",
       "        text-align: right;\n",
       "    }\n",
       "</style>\n",
       "<table border=\"1\" class=\"dataframe\">\n",
       "  <thead>\n",
       "    <tr style=\"text-align: right;\">\n",
       "      <th></th>\n",
       "      <th>V_in</th>\n",
       "      <th>V_2x</th>\n",
       "      <th>V_current</th>\n",
       "      <th>I_nom</th>\n",
       "      <th>I_calc</th>\n",
       "      <th>V_2x_nom</th>\n",
       "    </tr>\n",
       "  </thead>\n",
       "  <tbody>\n",
       "    <tr>\n",
       "      <th>0</th>\n",
       "      <td>0.0175</td>\n",
       "      <td>0.0402</td>\n",
       "      <td>0.0777</td>\n",
       "      <td>7.976299</td>\n",
       "      <td>7.77</td>\n",
       "      <td>0.0350</td>\n",
       "    </tr>\n",
       "    <tr>\n",
       "      <th>1</th>\n",
       "      <td>0.0632</td>\n",
       "      <td>0.1320</td>\n",
       "      <td>0.2750</td>\n",
       "      <td>28.805834</td>\n",
       "      <td>27.50</td>\n",
       "      <td>0.1264</td>\n",
       "    </tr>\n",
       "    <tr>\n",
       "      <th>2</th>\n",
       "      <td>0.1010</td>\n",
       "      <td>0.2060</td>\n",
       "      <td>0.4370</td>\n",
       "      <td>46.034640</td>\n",
       "      <td>43.70</td>\n",
       "      <td>0.2020</td>\n",
       "    </tr>\n",
       "    <tr>\n",
       "      <th>3</th>\n",
       "      <td>0.1460</td>\n",
       "      <td>0.2980</td>\n",
       "      <td>0.6350</td>\n",
       "      <td>66.545123</td>\n",
       "      <td>63.50</td>\n",
       "      <td>0.2920</td>\n",
       "    </tr>\n",
       "    <tr>\n",
       "      <th>4</th>\n",
       "      <td>0.2050</td>\n",
       "      <td>0.4140</td>\n",
       "      <td>0.8870</td>\n",
       "      <td>93.436645</td>\n",
       "      <td>88.70</td>\n",
       "      <td>0.4100</td>\n",
       "    </tr>\n",
       "    <tr>\n",
       "      <th>5</th>\n",
       "      <td>0.2520</td>\n",
       "      <td>0.5100</td>\n",
       "      <td>1.0900</td>\n",
       "      <td>114.858706</td>\n",
       "      <td>109.00</td>\n",
       "      <td>0.5040</td>\n",
       "    </tr>\n",
       "    <tr>\n",
       "      <th>6</th>\n",
       "      <td>0.3080</td>\n",
       "      <td>0.6220</td>\n",
       "      <td>1.3400</td>\n",
       "      <td>140.382862</td>\n",
       "      <td>134.00</td>\n",
       "      <td>0.6160</td>\n",
       "    </tr>\n",
       "    <tr>\n",
       "      <th>7</th>\n",
       "      <td>0.3480</td>\n",
       "      <td>0.7010</td>\n",
       "      <td>1.5100</td>\n",
       "      <td>158.614403</td>\n",
       "      <td>151.00</td>\n",
       "      <td>0.6960</td>\n",
       "    </tr>\n",
       "    <tr>\n",
       "      <th>8</th>\n",
       "      <td>0.3880</td>\n",
       "      <td>0.7800</td>\n",
       "      <td>1.6800</td>\n",
       "      <td>176.845943</td>\n",
       "      <td>168.00</td>\n",
       "      <td>0.7760</td>\n",
       "    </tr>\n",
       "    <tr>\n",
       "      <th>9</th>\n",
       "      <td>0.4450</td>\n",
       "      <td>0.8950</td>\n",
       "      <td>1.9300</td>\n",
       "      <td>202.825889</td>\n",
       "      <td>193.00</td>\n",
       "      <td>0.8900</td>\n",
       "    </tr>\n",
       "    <tr>\n",
       "      <th>10</th>\n",
       "      <td>0.5200</td>\n",
       "      <td>1.0500</td>\n",
       "      <td>2.2500</td>\n",
       "      <td>237.010027</td>\n",
       "      <td>225.00</td>\n",
       "      <td>1.0400</td>\n",
       "    </tr>\n",
       "    <tr>\n",
       "      <th>11</th>\n",
       "      <td>0.5410</td>\n",
       "      <td>1.0900</td>\n",
       "      <td>2.3400</td>\n",
       "      <td>246.581586</td>\n",
       "      <td>234.00</td>\n",
       "      <td>1.0820</td>\n",
       "    </tr>\n",
       "    <tr>\n",
       "      <th>12</th>\n",
       "      <td>0.5980</td>\n",
       "      <td>1.2000</td>\n",
       "      <td>2.5900</td>\n",
       "      <td>272.561531</td>\n",
       "      <td>259.00</td>\n",
       "      <td>1.1960</td>\n",
       "    </tr>\n",
       "    <tr>\n",
       "      <th>13</th>\n",
       "      <td>0.6490</td>\n",
       "      <td>1.3000</td>\n",
       "      <td>2.8100</td>\n",
       "      <td>295.806746</td>\n",
       "      <td>281.00</td>\n",
       "      <td>1.2980</td>\n",
       "    </tr>\n",
       "    <tr>\n",
       "      <th>14</th>\n",
       "      <td>0.6990</td>\n",
       "      <td>1.4000</td>\n",
       "      <td>3.0300</td>\n",
       "      <td>318.596171</td>\n",
       "      <td>303.00</td>\n",
       "      <td>1.3980</td>\n",
       "    </tr>\n",
       "    <tr>\n",
       "      <th>15</th>\n",
       "      <td>0.7240</td>\n",
       "      <td>1.4500</td>\n",
       "      <td>3.1300</td>\n",
       "      <td>329.990884</td>\n",
       "      <td>313.00</td>\n",
       "      <td>1.4480</td>\n",
       "    </tr>\n",
       "  </tbody>\n",
       "</table>\n",
       "</div>"
      ],
      "text/plain": [
       "      V_in    V_2x  V_current       I_nom  I_calc  V_2x_nom\n",
       "0   0.0175  0.0402     0.0777    7.976299    7.77    0.0350\n",
       "1   0.0632  0.1320     0.2750   28.805834   27.50    0.1264\n",
       "2   0.1010  0.2060     0.4370   46.034640   43.70    0.2020\n",
       "3   0.1460  0.2980     0.6350   66.545123   63.50    0.2920\n",
       "4   0.2050  0.4140     0.8870   93.436645   88.70    0.4100\n",
       "5   0.2520  0.5100     1.0900  114.858706  109.00    0.5040\n",
       "6   0.3080  0.6220     1.3400  140.382862  134.00    0.6160\n",
       "7   0.3480  0.7010     1.5100  158.614403  151.00    0.6960\n",
       "8   0.3880  0.7800     1.6800  176.845943  168.00    0.7760\n",
       "9   0.4450  0.8950     1.9300  202.825889  193.00    0.8900\n",
       "10  0.5200  1.0500     2.2500  237.010027  225.00    1.0400\n",
       "11  0.5410  1.0900     2.3400  246.581586  234.00    1.0820\n",
       "12  0.5980  1.2000     2.5900  272.561531  259.00    1.1960\n",
       "13  0.6490  1.3000     2.8100  295.806746  281.00    1.2980\n",
       "14  0.6990  1.4000     3.0300  318.596171  303.00    1.3980\n",
       "15  0.7240  1.4500     3.1300  329.990884  313.00    1.4480"
      ]
     },
     "execution_count": 4,
     "metadata": {},
     "output_type": "execute_result"
    }
   ],
   "source": [
    "meas = pd.read_csv(\"data/sps1.csv\")\n",
    "meas[\"I_nom\"] = meas[\"V_in\"] / config[\"r_load\"] * 1e6\n",
    "meas[\"I_calc\"] = meas[\"V_current\"] / config[\"r_sense\"] / config[\"gain\"] * 1e6\n",
    "meas[\"V_2x_nom\"] = meas[\"V_in\"] * 2\n",
    "meas"
   ]
  },
  {
   "cell_type": "code",
   "execution_count": 5,
   "id": "0eef6094-4d88-4c26-b432-e0c4e38ae1a1",
   "metadata": {},
   "outputs": [
    {
     "name": "stdout",
     "output_type": "stream",
     "text": [
      "8.481455674567005\n",
      "0.21540811305053548\n",
      "4.925000000000002\n",
      "1.4210833329868486\n"
     ]
    }
   ],
   "source": [
    "I_linreg = stats.linregress(meas[\"I_calc\"], meas[\"I_nom\"])\n",
    "meas[\"I_fit\"] = I_linreg.intercept + meas[\"I_calc\"] * I_linreg.slope\n",
    "I_mae_pre = abs(meas[\"I_calc\"] - meas[\"I_nom\"]).sum()/len(meas)\n",
    "I_mae_post = abs(meas[\"I_nom\"] - meas[\"I_fit\"]).sum()/len(meas)\n",
    "\n",
    "V_linreg = stats.linregress(meas[\"V_2x\"], meas[\"V_2x_nom\"])\n",
    "meas[\"V_fit\"] = V_linreg.intercept + meas[\"V_2x\"] * V_linreg.slope\n",
    "V_mae_pre = abs(meas[\"V_2x_nom\"] - meas[\"V_2x\"]).sum() / len(meas)\n",
    "V_mae_post = abs(meas[\"V_2x_nom\"] - meas[\"V_fit\"]).sum() / len(meas)\n",
    "\n",
    "print(I_mae_pre)\n",
    "print(I_mae_post)\n",
    "\n",
    "print(V_mae_pre*1000)\n",
    "print(V_mae_post*1000)"
   ]
  },
  {
   "cell_type": "code",
   "execution_count": 6,
   "id": "955187af-5988-44e8-962c-85f1263a4ec5",
   "metadata": {},
   "outputs": [
    {
     "data": {
      "text/plain": [
       "[<matplotlib.lines.Line2D at 0x7f511bff4700>]"
      ]
     },
     "execution_count": 6,
     "metadata": {},
     "output_type": "execute_result"
    },
    {
     "data": {
      "image/png": "[encoded data removed]",
      "text/plain": [
       "<Figure size 432x288 with 1 Axes>"
      ]
     },
     "metadata": {
      "needs_background": "light"
     },
     "output_type": "display_data"
    }
   ],
   "source": [
    "fig, ax = plt.subplots()\n",
    "ax.plot(meas[\"I_nom\"], meas[\"I_calc\"])\n",
    "ax.plot(meas[\"I_nom\"], meas[\"I_fit\"])"
   ]
  },
  {
   "cell_type": "code",
   "execution_count": 7,
   "id": "18a1fa2e-607f-4575-a0ce-b8479cc11ff6",
   "metadata": {},
   "outputs": [
    {
     "data": {
      "text/plain": [
       "[<matplotlib.lines.Line2D at 0x7f5119be6230>]"
      ]
     },
     "execution_count": 7,
     "metadata": {},
     "output_type": "execute_result"
    },
    {
     "data": {
      "image/png": "[encoded data removed]",
      "text/plain": [
       "<Figure size 432x288 with 1 Axes>"
      ]
     },
     "metadata": {
      "needs_background": "light"
     },
     "output_type": "display_data"
    }
   ],
   "source": [
    "fig, ax = plt.subplots()\n",
    "ax.plot(meas[\"V_2x_nom\"], meas[\"V_2x\"])\n",
    "ax.plot(meas[\"V_2x_nom\"], meas[\"V_fit\"])"
   ]
  },
  {
   "cell_type": "code",
   "execution_count": null,
   "id": "2085cb51-7acf-46f6-abf0-3cabd4d497c5",
   "metadata": {},
   "outputs": [],
   "source": []
  }
 ],
 "metadata": {
  "kernelspec": {
   "display_name": ".venv",
   "language": "python",
   "name": ".venv"
  },
  "language_info": {
   "codemirror_mode": {
    "name": "ipython",
    "version": 3
   },
   "file_extension": ".py",
   "mimetype": "text/x-python",
   "name": "python",
   "nbconvert_exporter": "python",
   "pygments_lexer": "ipython3",
   "version": "3.10.5"
  }
 },
 "nbformat": 4,
 "nbformat_minor": 5
}
