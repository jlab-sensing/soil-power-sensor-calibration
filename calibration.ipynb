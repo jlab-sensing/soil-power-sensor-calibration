{
 "cells": [
  {
   "cell_type": "markdown",
   "id": "dae72dc0-0ce0-42e1-9dbe-51af04fc7987",
   "metadata": {},
   "source": [
    "# Soil Power Sensor Calibraiton\n",
    "\n",
    "This notebook allow for the calibration of soil power sensors (SPSs) and comparison between multiple SPSs. See the `README.md` file for instructions on running this Jupyter notebook. By default the data is stored within the `data` folder but can be changed with the `data_dir` variable. The `names` variable is a list of strings that specify what data to process and plot. File extensions are not specified as there is a `.csv` file to hold the raw measuremnts and a `.yaml` file that specifies the configuration settings of the board.\n",
    "\n",
    "## CSV File\n",
    "\n",
    "The *csv* file must have the following columns named as specified below. It is recomended to copy `template/template.csv` and rename to file to prevent any mistakes. Column `V_in` stores the voltage of the **IN**. Column `V_2x` stores the measurement from **Volt 2x Sense** header. Column `V_current` stores the current measurement from the **Current Sense** header. In terms of a equation `V_in` is the input and `V_2x` and `V_current` are the outputs. Fill the CSV file with measuremnts taken from the soil power sensor board. Ensure that the column of all rows are populated.\n",
    "\n",
    "```\n",
    "V_in,V_2x,V_current\n",
    "```\n",
    "\n",
    "## YAML File\n",
    "\n",
    "The *YAML* file is used to specify the configuration of the soil power sensor board. Below is a copy from `template/template.yaml` with descriptions for each field. The fields `date` and `vcc` are currently not used in calculations but could prove to be useful for future comparisons.\n",
    "\n",
    "```yaml\n",
    "# Date the data was recorded\n",
    "date: 2022-07-21\n",
    "# Supply voltage in volts\n",
    "vcc: 3.25\n",
    "# Measured load resistor value in ohms\n",
    "r_load: 2194\n",
    "# Measured sensing resistor value in ohms\n",
    "r_sense: 100\n",
    "# Gain settings, valid options are [10, 100]\n",
    "gain: 100\n",
    "# Ref Select setting, valid options are [\"bidirectional\", \"unidirection\"]\n",
    "ref: \"unidirectional\"\n",
    "````"
   ]
  },
  {
   "cell_type": "code",
   "execution_count": 27,
   "id": "ebc1eb97-07cd-45be-9a3e-88e81fd44ac6",
   "metadata": {
    "tags": []
   },
   "outputs": [],
   "source": [
    "import os\n",
    "import pandas as pd\n",
    "import numpy as np\n",
    "from scipy import stats\n",
    "import matplotlib as mpl\n",
    "import matplotlib.pyplot as plt\n",
    "import yaml\n",
    "try:\n",
    "    from yaml import CLoader as Loader\n",
    "except ImportError:\n",
    "    from yaml import Loader"
   ]
  },
  {
   "cell_type": "code",
   "execution_count": 28,
   "id": "60561c77-134a-4807-a076-d6b5b00bdcd1",
   "metadata": {},
   "outputs": [],
   "source": [
    "# Set plot size\n",
    "factor = 1.2\n",
    "default_dpi = mpl.rcParamsDefault['figure.dpi']\n",
    "mpl.rcParams['figure.dpi'] = default_dpi*factor"
   ]
  },
  {
   "cell_type": "code",
   "execution_count": 29,
   "id": "29cd12c9-a75f-484d-8c59-c943a99f5a7c",
   "metadata": {},
   "outputs": [],
   "source": [
    "data_dir = \"data\"\n",
    "names = [\"sps1\", \"sps2\", \"sps3\", \"sps4\"]"
   ]
  },
  {
   "cell_type": "code",
   "execution_count": 30,
   "id": "92f5147e-45b0-4891-a013-d1f89c3e3a39",
   "metadata": {
    "tags": []
   },
   "outputs": [],
   "source": [
    "def calc_stats(x, y) -> dict:\n",
    "    \"\"\"Calculates linear resgression of data, fits the data, and calculates\n",
    "    mae for pre and post calibration\n",
    "    \n",
    "    Parameters\n",
    "    ----------\n",
    "    x : input\n",
    "    y : output\n",
    "    \n",
    "    Returns\n",
    "    -------\n",
    "    dict\n",
    "        \n",
    "    \"\"\"\n",
    "    \n",
    "    linreg = stats.linregress(x, y)\n",
    "    fit = linreg.intercept + x * linreg.slope\n",
    "    mae_pre = abs(x-y).sum()/len(y)\n",
    "    mae_post = abs(fit-y).sum()/len(y)\n",
    "    \n",
    "    r = {\n",
    "        \"slope\": linreg.slope,\n",
    "        \"intercept\": linreg.intercept,\n",
    "        \"rvalue\": linreg.rvalue,\n",
    "        \"mae_pre\": mae_pre,\n",
    "        \"mae_post\": mae_post\n",
    "    }\n",
    "    \n",
    "    return r"
   ]
  },
  {
   "cell_type": "code",
   "execution_count": 31,
   "id": "682ff59f-5d6d-469d-ab34-f39b96da8c5d",
   "metadata": {
    "tags": []
   },
   "outputs": [],
   "source": [
    "I_plots = []\n",
    "V_plots = []\n",
    "\n",
    "I_stats_list = []\n",
    "V_stats_list = []\n",
    "\n",
    "for n in names:\n",
    "    # Get filepaths\n",
    "    csv_path = os.path.join(data_dir, f\"{n}.csv\")\n",
    "    yaml_path = os.path.join(data_dir, f\"{n}.yaml\")\n",
    "    \n",
    "    # Load configuration\n",
    "    with open(yaml_path, \"r\") as f:\n",
    "        config = yaml.load(f, Loader=Loader)\n",
    "    \n",
    "    # Load data\n",
    "    data = pd.read_csv(csv_path)\n",
    "    \n",
    "    # Convert measured value to correct V/I measurements\n",
    "    data[\"I_nom\"] = data[\"V_in\"] / config[\"r_load\"] * 1e6\n",
    "    data[\"I_calc\"] = data[\"V_current\"] / config[\"r_sense\"] / config[\"gain\"] * 1e6\n",
    "    data[\"V_meas\"] = data[\"V_2x\"] / 2.\n",
    "    \n",
    "    # Calculate stats\n",
    "    I_stats = calc_stats(data[\"I_calc\"], data[\"I_nom\"])\n",
    "    I_stats[\"name\"] = n\n",
    "    V_stats = calc_stats(data[\"V_meas\"], data[\"V_in\"])\n",
    "    V_stats[\"name\"] = n\n",
    "    \n",
    "    I_stats_list.append(I_stats)\n",
    "    V_stats_list.append(V_stats)\n",
    "    \n",
    "    # Generate a set of points for fit data\n",
    "    data[\"I_fit\"] = I_stats[\"intercept\"] + I_stats[\"slope\"] * data[\"V_meas\"]\n",
    "    data[\"V_fit\"] = V_stats[\"intercept\"] + V_stats[\"slope\"] * data[\"I_calc\"]\n",
    "    \n",
    "    I_plots.append(data[[\"I_nom\", \"I_calc\", \"I_fit\"]])\n",
    "    V_plots.append(data[[\"V_in\", \"V_meas\", \"V_fit\"]])"
   ]
  },
  {
   "cell_type": "markdown",
   "id": "67026aca-f3f8-411c-8fce-0145b3fdfff7",
   "metadata": {},
   "source": [
    "## Statistics\n",
    "\n",
    "Below is the computed voltage and current statistics for each of the SPSs. For each SPS linear regression is giving `slope`, `intercept`, and `rvalue`. Linear regression is preformed uinsg `y = intercept + slope * x`, where `x` is the nominal value and `y` is the calculated value. The `rvalue` is a indicate of how accurate the fit is. This value should be `> 0.99`, there may be a error in data collection otherwise. The mean average error for pre (`mae_pre`) and post (`mae_post`) is also calculated."
   ]
  },
  {
   "cell_type": "markdown",
   "id": "b5fd0b82-022e-41fc-9253-f955234b8c07",
   "metadata": {
    "tags": []
   },
   "source": [
    "### Current Statistics"
   ]
  },
  {
   "cell_type": "code",
   "execution_count": 32,
   "id": "49f444cf-4369-456c-9cd7-46b0b0ade17a",
   "metadata": {},
   "outputs": [
    {
     "data": {
      "text/html": [
       "<div>\n",
       "<style scoped>\n",
       "    .dataframe tbody tr th:only-of-type {\n",
       "        vertical-align: middle;\n",
       "    }\n",
       "\n",
       "    .dataframe tbody tr th {\n",
       "        vertical-align: top;\n",
       "    }\n",
       "\n",
       "    .dataframe thead th {\n",
       "        text-align: right;\n",
       "    }\n",
       "</style>\n",
       "<table border=\"1\" class=\"dataframe\">\n",
       "  <thead>\n",
       "    <tr style=\"text-align: right;\">\n",
       "      <th></th>\n",
       "      <th>slope</th>\n",
       "      <th>intercept</th>\n",
       "      <th>rvalue</th>\n",
       "      <th>mae_pre</th>\n",
       "      <th>mae_post</th>\n",
       "    </tr>\n",
       "    <tr>\n",
       "      <th>name</th>\n",
       "      <th></th>\n",
       "      <th></th>\n",
       "      <th></th>\n",
       "      <th></th>\n",
       "      <th></th>\n",
       "    </tr>\n",
       "  </thead>\n",
       "  <tbody>\n",
       "    <tr>\n",
       "      <th>sps1</th>\n",
       "      <td>1.053495</td>\n",
       "      <td>-0.215340</td>\n",
       "      <td>0.999997</td>\n",
       "      <td>8.481456</td>\n",
       "      <td>0.215408</td>\n",
       "    </tr>\n",
       "    <tr>\n",
       "      <th>sps2</th>\n",
       "      <td>1.047137</td>\n",
       "      <td>-0.108001</td>\n",
       "      <td>0.999995</td>\n",
       "      <td>7.616318</td>\n",
       "      <td>0.247936</td>\n",
       "    </tr>\n",
       "    <tr>\n",
       "      <th>sps3</th>\n",
       "      <td>1.049812</td>\n",
       "      <td>-0.604729</td>\n",
       "      <td>0.999945</td>\n",
       "      <td>7.494949</td>\n",
       "      <td>0.584517</td>\n",
       "    </tr>\n",
       "    <tr>\n",
       "      <th>sps4</th>\n",
       "      <td>1.048127</td>\n",
       "      <td>-0.120128</td>\n",
       "      <td>0.999997</td>\n",
       "      <td>7.680437</td>\n",
       "      <td>0.208992</td>\n",
       "    </tr>\n",
       "  </tbody>\n",
       "</table>\n",
       "</div>"
      ],
      "text/plain": [
       "         slope  intercept    rvalue   mae_pre  mae_post\n",
       "name                                                   \n",
       "sps1  1.053495  -0.215340  0.999997  8.481456  0.215408\n",
       "sps2  1.047137  -0.108001  0.999995  7.616318  0.247936\n",
       "sps3  1.049812  -0.604729  0.999945  7.494949  0.584517\n",
       "sps4  1.048127  -0.120128  0.999997  7.680437  0.208992"
      ]
     },
     "execution_count": 32,
     "metadata": {},
     "output_type": "execute_result"
    }
   ],
   "source": [
    "I_stats_df = pd.DataFrame(I_stats_list)\n",
    "I_stats_df.set_index('name')"
   ]
  },
  {
   "cell_type": "markdown",
   "id": "406d0bec-a9ca-4054-b07f-a8cedef979a3",
   "metadata": {},
   "source": [
    "### Voltage Statistics"
   ]
  },
  {
   "cell_type": "code",
   "execution_count": 33,
   "id": "a8c3e2b4-af96-4f78-9d8d-9926d2f5a4d4",
   "metadata": {},
   "outputs": [
    {
     "data": {
      "text/html": [
       "<div>\n",
       "<style scoped>\n",
       "    .dataframe tbody tr th:only-of-type {\n",
       "        vertical-align: middle;\n",
       "    }\n",
       "\n",
       "    .dataframe tbody tr th {\n",
       "        vertical-align: top;\n",
       "    }\n",
       "\n",
       "    .dataframe thead th {\n",
       "        text-align: right;\n",
       "    }\n",
       "</style>\n",
       "<table border=\"1\" class=\"dataframe\">\n",
       "  <thead>\n",
       "    <tr style=\"text-align: right;\">\n",
       "      <th></th>\n",
       "      <th>slope</th>\n",
       "      <th>intercept</th>\n",
       "      <th>rvalue</th>\n",
       "      <th>mae_pre</th>\n",
       "      <th>mae_post</th>\n",
       "    </tr>\n",
       "    <tr>\n",
       "      <th>name</th>\n",
       "      <th></th>\n",
       "      <th></th>\n",
       "      <th></th>\n",
       "      <th></th>\n",
       "      <th></th>\n",
       "    </tr>\n",
       "  </thead>\n",
       "  <tbody>\n",
       "    <tr>\n",
       "      <th>sps1</th>\n",
       "      <td>1.001275</td>\n",
       "      <td>-0.002944</td>\n",
       "      <td>0.999990</td>\n",
       "      <td>0.002463</td>\n",
       "      <td>0.000711</td>\n",
       "    </tr>\n",
       "    <tr>\n",
       "      <th>sps2</th>\n",
       "      <td>0.999700</td>\n",
       "      <td>-0.005534</td>\n",
       "      <td>0.999447</td>\n",
       "      <td>0.005650</td>\n",
       "      <td>0.004902</td>\n",
       "    </tr>\n",
       "    <tr>\n",
       "      <th>sps3</th>\n",
       "      <td>0.999629</td>\n",
       "      <td>-0.003393</td>\n",
       "      <td>0.999945</td>\n",
       "      <td>0.003534</td>\n",
       "      <td>0.001325</td>\n",
       "    </tr>\n",
       "    <tr>\n",
       "      <th>sps4</th>\n",
       "      <td>0.995695</td>\n",
       "      <td>-0.001860</td>\n",
       "      <td>0.999997</td>\n",
       "      <td>0.003491</td>\n",
       "      <td>0.000438</td>\n",
       "    </tr>\n",
       "  </tbody>\n",
       "</table>\n",
       "</div>"
      ],
      "text/plain": [
       "         slope  intercept    rvalue   mae_pre  mae_post\n",
       "name                                                   \n",
       "sps1  1.001275  -0.002944  0.999990  0.002463  0.000711\n",
       "sps2  0.999700  -0.005534  0.999447  0.005650  0.004902\n",
       "sps3  0.999629  -0.003393  0.999945  0.003534  0.001325\n",
       "sps4  0.995695  -0.001860  0.999997  0.003491  0.000438"
      ]
     },
     "execution_count": 33,
     "metadata": {},
     "output_type": "execute_result"
    }
   ],
   "source": [
    "V_stats_df = pd.DataFrame(V_stats_list)\n",
    "V_stats_df.set_index('name')"
   ]
  },
  {
   "cell_type": "markdown",
   "id": "7cef1c93-31b0-40b4-a5a2-440366e4ee9b",
   "metadata": {},
   "source": [
    "## Graphs\n",
    "\n",
    "Below are the graphs that show the nominally measured values on the x-axis vs the calculated values on the y-axis. The graphs are used to visually compare the relationship of nominal vs calculated across multiple boards."
   ]
  },
  {
   "cell_type": "code",
   "execution_count": 34,
   "id": "955187af-5988-44e8-962c-85f1263a4ec5",
   "metadata": {},
   "outputs": [
    {
     "data": {
      "text/plain": [
       "<matplotlib.legend.Legend at 0x7f8e9444b550>"
      ]
     },
     "execution_count": 34,
     "metadata": {},
     "output_type": "execute_result"
    },
    {
     "data": {
      "image/png": "[encoded data removed]",
      "text/plain": [
       "<Figure size 720x480 with 1 Axes>"
      ]
     },
     "metadata": {
      "needs_background": "light"
     },
     "output_type": "display_data"
    }
   ],
   "source": [
    "fig, ax = plt.subplots()\n",
    "\n",
    "for n, i in zip(names, I_plots):\n",
    "    ax.plot(i[\"I_nom\"], i[\"I_calc\"], label=n)\n",
    "    \n",
    "ax.set_title(\"Current Nominal vs. Calculated\")\n",
    "ax.set_xlabel(\"Nominal (uA)\")\n",
    "ax.set_ylabel(\"Calculated (uA)\")\n",
    "ax.legend()"
   ]
  },
  {
   "cell_type": "code",
   "execution_count": 35,
   "id": "18a1fa2e-607f-4575-a0ce-b8479cc11ff6",
   "metadata": {},
   "outputs": [
    {
     "data": {
      "text/plain": [
       "<matplotlib.legend.Legend at 0x7f8e9404b430>"
      ]
     },
     "execution_count": 35,
     "metadata": {},
     "output_type": "execute_result"
    },
    {
     "data": {
      "image/png": "[encoded data removed]",
      "text/plain": [
       "<Figure size 720x480 with 1 Axes>"
      ]
     },
     "metadata": {
      "needs_background": "light"
     },
     "output_type": "display_data"
    }
   ],
   "source": [
    "fig, ax = plt.subplots()\n",
    "\n",
    "for n, v in zip(names, V_plots):\n",
    "    ax.plot(v[\"V_in\"], v[\"V_meas\"], label=n)\n",
    "\n",
    "ax.set_title(\"Voltage Nominal vs. Calculated\")\n",
    "ax.set_xlabel(\"Nominal (V)\")\n",
    "ax.set_ylabel(\"Calculated (V)\")\n",
    "ax.legend()"
   ]
  }
 ],
 "metadata": {
  "kernelspec": {
   "display_name": ".venv",
   "language": "python",
   "name": ".venv"
  },
  "language_info": {
   "codemirror_mode": {
    "name": "ipython",
    "version": 3
   },
   "file_extension": ".py",
   "mimetype": "text/x-python",
   "name": "python",
   "nbconvert_exporter": "python",
   "pygments_lexer": "ipython3",
   "version": "3.10.5"
  }
 },
 "nbformat": 4,
 "nbformat_minor": 5
}
